{
  "nbformat": 4,
  "nbformat_minor": 0,
  "metadata": {
    "colab": {
      "name": "J_A_Capstone_3.ipynb",
      "provenance": [],
      "collapsed_sections": [],
      "toc_visible": true,
      "authorship_tag": "ABX9TyMoUfTpuJMmDgbUGh1CUjUo",
      "include_colab_link": true
    },
    "kernelspec": {
      "display_name": "Python 3",
      "name": "python3"
    }
  },
  "cells": [
    {
      "cell_type": "markdown",
      "metadata": {
        "id": "view-in-github",
        "colab_type": "text"
      },
      "source": [
        "<a href=\"https://colab.research.google.com/github/JessieDimples2006/South/blob/New-Branch2/J_A_Capstone_3.ipynb\" target=\"_parent\"><img src=\"https://colab.research.google.com/assets/colab-badge.svg\" alt=\"Open In Colab\"/></a>"
      ]
    },
    {
      "cell_type": "markdown",
      "metadata": {
        "id": "LSBFkHPhj3dY"
      },
      "source": [
        "***Agriculture and Vertical Growth***\r\n",
        "--------------------------------------------------------------------------------\r\n",
        "--------------------------------------------------------------------------------\r\n",
        "Objective: To analyze the data found on FAO to discover if we can sustain production of key resources for an ever-growing population, while we are losing land to commercial and residential zone's to compensate for the worlds growing population.\r\n",
        "\r\n",
        "This analysis is useful to every person in the industry. From, Stakeholders, to Farmer's to the people working in the Field. We can all gain insight.\r\n",
        "\r\n",
        "For this analysis we will be using data that can be found at the FAO website. \r\n",
        "In today's world there are 4 countries that are the top producers for the world’s food. (2) These countries are: The United States of America, China, Brazil, and India. We will be using the two largest producers of the world’s food supply, China and The United States of America.\r\n",
        "\r\n",
        "We currently produce enough food for 10 billion people. Yet worldwide each year we waste 1/3 of all food produced for human consumption. (1) Which includes 45% of all Fruits and Vegetables, 35% of fish and seafood, 30% of cereals, 20% of all dairy products and 20% of all meat. Which equates to 1.3 billion tons and comes to an estimated total of $1 Trillion dollars.\r\n",
        "\r\n"
      ]
    },
    {
      "cell_type": "markdown",
      "metadata": {
        "id": "u_A_jU3oyvTl"
      },
      "source": [
        "# ***Agriculture Facts***\r\n",
        "-------------------------------------------------------------------------------\r\n",
        "Land that was previously used for crop production, is now being used for commercial and residential purposes. The Agriculture industry is having to come up with innovitive ways to circumvent the issue. Is it working?\r\n",
        "Can we support the worlds ever increasing population?\r\n",
        "\r\n",
        "Agriculture in America\r\n",
        "\r\n",
        "As it stands right now 10% of the worlds arable land is in America. As it stands right now for the US, only 17% of our land is ideal for farming, yet we are losing 9.5 acres every minute (3).  From 1992-2012 a total amount of 11 million acres, was developed for either residential or commercial purposes.\r\n",
        "\r\n",
        "Agriculture in China\r\n",
        "\r\n",
        "China faces its own problems in the industry. In 2017 China's arable land fell to 134.86 million hectares. Of availabe arable land in China only 1.2% of it supports crop life. China has to feed nearly a quarter of the worlds population, with only 7% of it available land able to be used.\r\n",
        "China has around 3.33 million acres that was deemed to polluted to grow crops, and another 10 million hectares that are contaminated by heavy meatals.\r\n"
      ]
    },
    {
      "cell_type": "markdown",
      "metadata": {
        "id": "t45-KYYvkXhe"
      },
      "source": [
        "##*Import Information and declaring Data Frames*"
      ]
    },
    {
      "cell_type": "markdown",
      "metadata": {
        "id": "2CbTjYVgzDtv"
      },
      "source": [
        "Library Import"
      ]
    },
    {
      "cell_type": "code",
      "metadata": {
        "id": "Cfsyq332ydJu"
      },
      "source": [
        "import pandas as pd\r\n",
        "import math\r\n",
        "from scipy import stats\r\n",
        "import seaborn as sns \r\n",
        "sns.set()"
      ],
      "execution_count": null,
      "outputs": []
    },
    {
      "cell_type": "markdown",
      "metadata": {
        "id": "liP_dFT-zMIX"
      },
      "source": [
        "Mount Google drive"
      ]
    },
    {
      "cell_type": "code",
      "metadata": {
        "colab": {
          "base_uri": "https://localhost:8080/"
        },
        "id": "Jb14m3kkzPD8",
        "outputId": "18c1d0c3-3af9-4842-eef2-db0031dbe7c8"
      },
      "source": [
        "from google.colab import drive\r\n",
        "drive.mount('/content/gdrive')"
      ],
      "execution_count": null,
      "outputs": [
        {
          "output_type": "stream",
          "text": [
            "Drive already mounted at /content/gdrive; to attempt to forcibly remount, call drive.mount(\"/content/gdrive\", force_remount=True).\n"
          ],
          "name": "stdout"
        }
      ]
    },
    {
      "cell_type": "markdown",
      "metadata": {
        "id": "XtEG8_kVzkhM"
      },
      "source": [
        "Read Excel Sheets into seperate DataFrames"
      ]
    },
    {
      "cell_type": "code",
      "metadata": {
        "id": "sUY4O__u0ICS"
      },
      "source": [
        "eggs = pd.read_excel(r'/content/gdrive/MyDrive/School Work/China_USA_2.xlsx',\r\n",
        "                     sheet_name = 'Eggs')\r\n",
        "crops = pd.read_excel(r'/content/gdrive/MyDrive/School Work/China_USA_2.xlsx',\r\n",
        "                      sheet_name = 'Crops')\r\n",
        "meats = pd.read_excel(r'/content/gdrive/MyDrive/School Work/China_USA_2.xlsx',\r\n",
        "                      sheet_name = 'Meats')\r\n",
        "population = pd.read_excel(r'/content/gdrive/MyDrive/School Work/China_USA_2.xlsx', \r\n",
        "                           sheet_name = 'Population')\r\n",
        "prices = pd.read_excel(r'/content/gdrive/MyDrive/School Work/China_USA_2.xlsx',\r\n",
        "                       sheet_name = 'Producer_Prices')\r\n",
        "yields = pd.read_excel(r'/content/gdrive/MyDrive/School Work/China_USA_2.xlsx',\r\n",
        "                       sheet_name = 'Yields')\r\n",
        "area = pd.read_excel(r'/content/gdrive/MyDrive/School Work/China_USA_2.xlsx',\r\n",
        "                       sheet_name = 'Area')\r\n",
        "milk = pd.read_excel(r'/content/gdrive/MyDrive/School Work/China_USA_2.xlsx',\r\n",
        "                       sheet_name = 'Milk')\r\n",
        "cereal = pd.read_excel(r'/content/gdrive/MyDrive/School Work/China_USA_2.xlsx',\r\n",
        "                       sheet_name = 'Cereal')"
      ],
      "execution_count": null,
      "outputs": []
    },
    {
      "cell_type": "code",
      "metadata": {
        "id": "FyfyX43BYfU0"
      },
      "source": [
        "eggs_df = pd.DataFrame(eggs)\r\n",
        "population_df = pd.DataFrame(population)\r\n",
        "meats_df = pd.DataFrame(meats)\r\n",
        "crops_df = pd.DataFrame(crops)\r\n",
        "yields_df = pd.DataFrame(yields)\r\n",
        "area_df = pd.DataFrame(area)\r\n",
        "prices_df = pd.DataFrame(prices)\r\n",
        "milk_df = pd.DataFrame(milk)\r\n",
        "cereal_df = pd.DataFrame(cereal)"
      ],
      "execution_count": null,
      "outputs": []
    },
    {
      "cell_type": "markdown",
      "metadata": {
        "id": "Jp0Fhqi4dSV2"
      },
      "source": [
        "##*Functions*\r\n",
        "----------------------------------------------------------------------------------------------------------------------------------------------------------------\r\n",
        "*_Functions That will be called throughout the notebook._*"
      ]
    },
    {
      "cell_type": "code",
      "metadata": {
        "id": "1b9K8i78NNk_"
      },
      "source": [
        "def descript_df(array):\r\n",
        "  s = array.shape,\r\n",
        "  i = array.info(),\r\n",
        "  d = array.describe(),\r\n",
        "  e = array. isnull().sum(),\r\n",
        "  return s , i , d , e"
      ],
      "execution_count": null,
      "outputs": []
    },
    {
      "cell_type": "code",
      "metadata": {
        "id": "hHn7Kv_qRDQa"
      },
      "source": [
        "def descript_col(array):\r\n",
        "  d = array.describe(),\r\n",
        "  e = array.isnull()\r\n",
        "  return d,e"
      ],
      "execution_count": null,
      "outputs": []
    },
    {
      "cell_type": "code",
      "metadata": {
        "id": "Zk1-TmIPwIwq"
      },
      "source": [
        "def get_ci(array1, array2):\r\n",
        "  description1 = array1.describe()\r\n",
        "  description2 = array2.describe()\r\n",
        "  results = stats.ttest_ind(array1, array2)\r\n",
        "  sample_1_size = array1.count()\r\n",
        "  sample_2_size = array2.count()\r\n",
        "  sample_1_mean = array1.mean()\r\n",
        "  sample_2_mean =array2.mean()\r\n",
        "  sample_1_var = array1.var()\r\n",
        "  sample_2_var = array2.var()\r\n",
        "  mean_diff = sample_2_mean - sample_1_mean\r\n",
        "  std_error = math.sqrt((sample_1_var/sample_1_size)+ (sample_2_var/sample_2_size))\r\n",
        "  con_in = 1.96*std_error\r\n",
        "  lower_ci = mean_diff - con_in\r\n",
        "  upper_ci = mean_diff + con_in\r\n",
        "  return(\"Descriptive Stats for the USA are:\",\r\n",
        "         \"{}\".format(description1),\r\n",
        "         \"The descriptive stats for China are:\",\r\n",
        "         \"{}\".format(description2),                                  \r\n",
        "         \"The count for USA : \" + str(sample_1_size),\r\n",
        "         \"The count for China \" + str(sample_2_size),\r\n",
        "         \"The mean for the USA is \" + str(sample_1_mean),\r\n",
        "         \"The mean for China is  \" + str(sample_2_mean),\r\n",
        "         \"The Variance for the USA is  \" + str(sample_1_var),\r\n",
        "         \"The Variance for China is \" + str(sample_2_var),\r\n",
        "         \"The Mean difference is: \" + str(mean_diff),\r\n",
        "         \"The Standard Error of Difference is: \" + str(std_error),\r\n",
        "         \"The Confidence interval is: \" +  str(con_in),\r\n",
        "         \"The lower and upper parameters for the mean are: \" + str(lower_ci) + ' '  + str(upper_ci),\r\n",
        "         \"The difference in means is at the 95% Confidence level, and (two-tail) is between \" + str(lower_ci) + \" and \" + str(upper_ci))"
      ],
      "execution_count": null,
      "outputs": []
    },
    {
      "cell_type": "code",
      "metadata": {
        "id": "iiGMsgCwbZwk"
      },
      "source": [
        "def get_info(array1):\r\n",
        "  description1 = array1.describe()\r\n",
        "  sample_1_size = array1.count()\r\n",
        "  sample_1_mean = array1.mean()\r\n",
        "  sample_1_var = array1.var()\r\n",
        "  std_error = math.sqrt(sample_1_var/sample_1_size)\r\n",
        "  return  (sample_1_size,\r\n",
        "           sample_1_var,\r\n",
        "           sample_1_mean,\r\n",
        "           description1)"
      ],
      "execution_count": null,
      "outputs": []
    },
    {
      "cell_type": "code",
      "metadata": {
        "id": "RjgL4rJhSepk"
      },
      "source": [
        "def test(array, array2):\r\n",
        "  x = stats.ttest_ind(array, array2)\r\n",
        "  return x"
      ],
      "execution_count": null,
      "outputs": []
    },
    {
      "cell_type": "code",
      "metadata": {
        "id": "MUuTAg8kJgfm"
      },
      "source": [
        "def linegraph(array1, array1y, array2, array2y):\r\n",
        "  x = sns.lineplot(y=array1, x=array1y),\r\n",
        "  b = sns.lineplot(y = array2, x=array2y)\r\n",
        "  return x, b"
      ],
      "execution_count": null,
      "outputs": []
    },
    {
      "cell_type": "code",
      "metadata": {
        "id": "l4kFIvxcL_rl"
      },
      "source": [
        "def disgraph(array, array2):\r\n",
        "  x = sns.histplot(array),\r\n",
        "  y = sns.histplot(array2)\r\n",
        "  return x, y"
      ],
      "execution_count": null,
      "outputs": []
    },
    {
      "cell_type": "code",
      "metadata": {
        "id": "vIoz9n8uS67o"
      },
      "source": [
        "def scatter(array, array2, array3, array4):\r\n",
        "  x = sns.scatterplot(y = array, x = array2)\r\n",
        "  y = sns.scatterplot(y= array3, x = array4)\r\n",
        "  return x, y"
      ],
      "execution_count": null,
      "outputs": []
    },
    {
      "cell_type": "code",
      "metadata": {
        "id": "77FO8zoombGZ"
      },
      "source": [
        "def hisgraph(array):\r\n",
        "  x = sns.histplot(array)\r\n",
        "  return x"
      ],
      "execution_count": null,
      "outputs": []
    },
    {
      "cell_type": "code",
      "metadata": {
        "id": "Za1_NK_wr2o3"
      },
      "source": [
        "def box(varray, yarray,cvarray,cyarray):\r\n",
        "  a = sns.boxplot(y=varray, x= yarray)\r\n",
        "  b = sns.boxplot(y=cvarray, x=cyarray)\r\n",
        "  return a , b"
      ],
      "execution_count": null,
      "outputs": []
    },
    {
      "cell_type": "markdown",
      "metadata": {
        "id": "NoZdKetBdVG2"
      },
      "source": [
        "#***Population*** \r\n",
        "--------------------------------------------------------------------------------\r\n",
        "The world's population is a contrbuting factor for the need to develop land that was used for crop production. It's also a contributing factor to pollution, and a whole slew of other issues. \r\n",
        "But is the driving force for the need to circumvent decreasing quality land available for production of necessary resources.\r\n",
        "Lets take a look at population's for China and the USA. \r\n",
        "\r\n",
        "Each single value is equal to 1,000.\r\n",
        "1:1,000"
      ]
    },
    {
      "cell_type": "markdown",
      "metadata": {
        "id": "xMQf6KmaGKHj"
      },
      "source": [
        "##*Population*\r\n",
        "-------------------------------------------------------------------------------\r\n",
        "Population Hypothesis:\r\n",
        "\r\n",
        "Null Hypothesis: The mean's are equal.\r\n",
        "\r\n",
        "Alternative Hypothesis: The mean's are not equal.\r\n"
      ]
    },
    {
      "cell_type": "code",
      "metadata": {
        "colab": {
          "base_uri": "https://localhost:8080/"
        },
        "id": "y-yRgyCnGOmd",
        "outputId": "ba148f76-4d61-4bb9-e050-85131cd5ca58"
      },
      "source": [
        "descript_df(population_df)"
      ],
      "execution_count": null,
      "outputs": [
        {
          "output_type": "stream",
          "text": [
            "<class 'pandas.core.frame.DataFrame'>\n",
            "RangeIndex: 58 entries, 0 to 57\n",
            "Data columns (total 6 columns):\n",
            " #   Column          Non-Null Count  Dtype  \n",
            "---  ------          --------------  -----  \n",
            " 0   US.pop.Element  58 non-null     object \n",
            " 1   US.pop.Year     58 non-null     int64  \n",
            " 2   US.pop.Value    58 non-null     float64\n",
            " 3   C.pop.Element   58 non-null     object \n",
            " 4   C.pop.Year      58 non-null     int64  \n",
            " 5   C.pop.Value     58 non-null     float64\n",
            "dtypes: float64(2), int64(2), object(2)\n",
            "memory usage: 2.8+ KB\n"
          ],
          "name": "stdout"
        },
        {
          "output_type": "execute_result",
          "data": {
            "text/plain": [
              "(((58, 6),),\n",
              " (None,),\n",
              " (       US.pop.Year   US.pop.Value   C.pop.Year    C.pop.Value\n",
              "  count    58.000000      58.000000    58.000000      58.000000\n",
              "  mean   2004.000000  145659.561086  2004.000000  669587.322086\n",
              "  std       8.439672   88437.524603     8.439672  163465.211512\n",
              "  min    1990.000000   57980.034000  1990.000000  329576.683000\n",
              "  25%    1997.000000   59276.792500  1997.000000  568827.823500\n",
              "  50%    2004.000000  126264.975000  2004.000000  695209.849000\n",
              "  75%    2011.000000  232692.851500  2011.000000  815498.939000\n",
              "  max    2018.000000  268786.714000  2018.000000  871217.580000,),\n",
              " (US.pop.Element    0\n",
              "  US.pop.Year       0\n",
              "  US.pop.Value      0\n",
              "  C.pop.Element     0\n",
              "  C.pop.Year        0\n",
              "  C.pop.Value       0\n",
              "  dtype: int64,))"
            ]
          },
          "metadata": {
            "tags": []
          },
          "execution_count": 172
        }
      ]
    },
    {
      "cell_type": "code",
      "metadata": {
        "id": "9SDYurZOGTvM",
        "colab": {
          "base_uri": "https://localhost:8080/"
        },
        "outputId": "59930b59-9df7-4118-b681-fa89dd3007fd"
      },
      "source": [
        "descript_col(population_df['US.pop.Value'])"
      ],
      "execution_count": null,
      "outputs": [
        {
          "output_type": "execute_result",
          "data": {
            "text/plain": [
              "((count        58.000000\n",
              "  mean     145659.561086\n",
              "  std       88437.524603\n",
              "  min       57980.034000\n",
              "  25%       59276.792500\n",
              "  50%      126264.975000\n",
              "  75%      232692.851500\n",
              "  max      268786.714000\n",
              "  Name: US.pop.Value, dtype: float64,), 0     False\n",
              " 1     False\n",
              " 2     False\n",
              " 3     False\n",
              " 4     False\n",
              " 5     False\n",
              " 6     False\n",
              " 7     False\n",
              " 8     False\n",
              " 9     False\n",
              " 10    False\n",
              " 11    False\n",
              " 12    False\n",
              " 13    False\n",
              " 14    False\n",
              " 15    False\n",
              " 16    False\n",
              " 17    False\n",
              " 18    False\n",
              " 19    False\n",
              " 20    False\n",
              " 21    False\n",
              " 22    False\n",
              " 23    False\n",
              " 24    False\n",
              " 25    False\n",
              " 26    False\n",
              " 27    False\n",
              " 28    False\n",
              " 29    False\n",
              " 30    False\n",
              " 31    False\n",
              " 32    False\n",
              " 33    False\n",
              " 34    False\n",
              " 35    False\n",
              " 36    False\n",
              " 37    False\n",
              " 38    False\n",
              " 39    False\n",
              " 40    False\n",
              " 41    False\n",
              " 42    False\n",
              " 43    False\n",
              " 44    False\n",
              " 45    False\n",
              " 46    False\n",
              " 47    False\n",
              " 48    False\n",
              " 49    False\n",
              " 50    False\n",
              " 51    False\n",
              " 52    False\n",
              " 53    False\n",
              " 54    False\n",
              " 55    False\n",
              " 56    False\n",
              " 57    False\n",
              " Name: US.pop.Value, dtype: bool)"
            ]
          },
          "metadata": {
            "tags": []
          },
          "execution_count": 173
        }
      ]
    },
    {
      "cell_type": "code",
      "metadata": {
        "id": "Lkm0B6TRGo4b",
        "colab": {
          "base_uri": "https://localhost:8080/"
        },
        "outputId": "780ec9ab-64ab-4343-f720-f50d77ca0c5a"
      },
      "source": [
        "descript_col(population_df['C.pop.Value'])"
      ],
      "execution_count": null,
      "outputs": [
        {
          "output_type": "execute_result",
          "data": {
            "text/plain": [
              "((count        58.000000\n",
              "  mean     669587.322086\n",
              "  std      163465.211512\n",
              "  min      329576.683000\n",
              "  25%      568827.823500\n",
              "  50%      695209.849000\n",
              "  75%      815498.939000\n",
              "  max      871217.580000\n",
              "  Name: C.pop.Value, dtype: float64,), 0     False\n",
              " 1     False\n",
              " 2     False\n",
              " 3     False\n",
              " 4     False\n",
              " 5     False\n",
              " 6     False\n",
              " 7     False\n",
              " 8     False\n",
              " 9     False\n",
              " 10    False\n",
              " 11    False\n",
              " 12    False\n",
              " 13    False\n",
              " 14    False\n",
              " 15    False\n",
              " 16    False\n",
              " 17    False\n",
              " 18    False\n",
              " 19    False\n",
              " 20    False\n",
              " 21    False\n",
              " 22    False\n",
              " 23    False\n",
              " 24    False\n",
              " 25    False\n",
              " 26    False\n",
              " 27    False\n",
              " 28    False\n",
              " 29    False\n",
              " 30    False\n",
              " 31    False\n",
              " 32    False\n",
              " 33    False\n",
              " 34    False\n",
              " 35    False\n",
              " 36    False\n",
              " 37    False\n",
              " 38    False\n",
              " 39    False\n",
              " 40    False\n",
              " 41    False\n",
              " 42    False\n",
              " 43    False\n",
              " 44    False\n",
              " 45    False\n",
              " 46    False\n",
              " 47    False\n",
              " 48    False\n",
              " 49    False\n",
              " 50    False\n",
              " 51    False\n",
              " 52    False\n",
              " 53    False\n",
              " 54    False\n",
              " 55    False\n",
              " 56    False\n",
              " 57    False\n",
              " Name: C.pop.Value, dtype: bool)"
            ]
          },
          "metadata": {
            "tags": []
          },
          "execution_count": 174
        }
      ]
    },
    {
      "cell_type": "markdown",
      "metadata": {
        "id": "oRLqwmC4G1XO"
      },
      "source": [
        "##*Population Results*"
      ]
    },
    {
      "cell_type": "code",
      "metadata": {
        "colab": {
          "base_uri": "https://localhost:8080/"
        },
        "id": "1KPIF5A4HOS1",
        "outputId": "3db9d86e-d23a-46e5-95aa-dab5f9d37405"
      },
      "source": [
        "test((population_df.dropna()['US.pop.Value']), (population_df.dropna()['C.pop.Value']))"
      ],
      "execution_count": null,
      "outputs": [
        {
          "output_type": "execute_result",
          "data": {
            "text/plain": [
              "Ttest_indResult(statistic=-21.46897055765619, pvalue=7.34008808278279e-42)"
            ]
          },
          "metadata": {
            "tags": []
          },
          "execution_count": 175
        }
      ]
    },
    {
      "cell_type": "markdown",
      "metadata": {
        "id": "mFbn8CTr3YuY"
      },
      "source": [
        "We reject the Null hypothesis, as expected, we can expect the population's to continue to grow. we can expect to see differences with even more extreme numbers. China leads the US for population totals and is expected to continue to do so. \r\n",
        "In 2019 China's population was reported to contribute to the world's total population by 18.9%, with an astonishing amount od 1,433,783,686. While the United States came in with a controbution of 4.3% of the worlds population. With a reported total of 329,064,917.(4)"
      ]
    },
    {
      "cell_type": "code",
      "metadata": {
        "cellView": "form",
        "colab": {
          "base_uri": "https://localhost:8080/"
        },
        "id": "2-hWB1jQGxgN",
        "outputId": "c99853ca-37f7-4540-f85c-22de817d2fd5"
      },
      "source": [
        "#@title\n",
        "get_ci(population_df['US.pop.Value'], population_df['C.pop.Value'])"
      ],
      "execution_count": null,
      "outputs": [
        {
          "output_type": "execute_result",
          "data": {
            "text/plain": [
              "('Descriptive Stats for the USA are:',\n",
              " 'count        58.000000\\nmean     145659.561086\\nstd       88437.524603\\nmin       57980.034000\\n25%       59276.792500\\n50%      126264.975000\\n75%      232692.851500\\nmax      268786.714000\\nName: US.pop.Value, dtype: float64',\n",
              " 'The descriptive stats for China are:',\n",
              " 'count        58.000000\\nmean     669587.322086\\nstd      163465.211512\\nmin      329576.683000\\n25%      568827.823500\\n50%      695209.849000\\n75%      815498.939000\\nmax      871217.580000\\nName: C.pop.Value, dtype: float64',\n",
              " 'The count for USA : 58',\n",
              " 'The count for China 58',\n",
              " 'The mean for the USA is 145659.5610862069',\n",
              " 'The mean for China is  669587.3220862069',\n",
              " 'The Variance for the USA is  7821195757.972724',\n",
              " 'The Variance for China is 26720875374.706528',\n",
              " 'The Mean difference is: 523927.76099999994',\n",
              " 'The Standard Error of Difference is: 24403.953584684496',\n",
              " 'The Confidence interval is: 47831.74902598161',\n",
              " 'The lower and upper parameters for the mean are: 476096.0119740183 571759.5100259816',\n",
              " 'The difference in means is at the 95% Confidence level, and (two-tail) is between 476096.0119740183 and 571759.5100259816')"
            ]
          },
          "metadata": {
            "tags": []
          },
          "execution_count": 176
        }
      ]
    },
    {
      "cell_type": "markdown",
      "metadata": {
        "id": "lzu5vXMP_v34"
      },
      "source": [
        "##*Graphs*\r\n",
        "--------------------------------------------------------------------------------\r\n",
        "Population Data Frame"
      ]
    },
    {
      "cell_type": "code",
      "metadata": {
        "colab": {
          "base_uri": "https://localhost:8080/"
        },
        "id": "x7b3cTv6AE0F",
        "outputId": "76f2784f-7c7e-4959-a42a-eeaa33f3567d"
      },
      "source": [
        "linegraph(population_df['US.pop.Value'],population_df['US.pop.Year'], population_df['C.pop.Value'], population_df['C.pop.Year'])"
      ],
      "execution_count": null,
      "outputs": [
        {
          "output_type": "execute_result",
          "data": {
            "text/plain": [
              "((<matplotlib.axes._subplots.AxesSubplot at 0x7f0a745f91d0>,),\n",
              " <matplotlib.axes._subplots.AxesSubplot at 0x7f0a745f91d0>)"
            ]
          },
          "metadata": {
            "tags": []
          },
          "execution_count": 177
        },
        {
          "output_type": "display_data",
          "data": {
            "image/png": "[encoded data removed]",
            "text/plain": [
              "<Figure size 432x288 with 1 Axes>"
            ]
          },
          "metadata": {
            "tags": []
          }
        }
      ]
    },
    {
      "cell_type": "code",
      "metadata": {
        "colab": {
          "base_uri": "https://localhost:8080/"
        },
        "id": "Ap9FVe7zBZ7m",
        "outputId": "eda76154-224e-417b-cd31-92068959f55a"
      },
      "source": [
        "sns.boxplot(y=population_df['US.pop.Value'], x=population_df['US.pop.Year'])\r\n",
        "sns.boxplot(y=population_df['C.pop.Value'], x=population_df['C.pop.Year'])"
      ],
      "execution_count": null,
      "outputs": [
        {
          "output_type": "execute_result",
          "data": {
            "text/plain": [
              "<matplotlib.axes._subplots.AxesSubplot at 0x7f0a744d2400>"
            ]
          },
          "metadata": {
            "tags": []
          },
          "execution_count": 178
        },
        {
          "output_type": "display_data",
          "data": {
            "image/png": "[encoded data removed]",
            "text/plain": [
              "<Figure size 432x288 with 1 Axes>"
            ]
          },
          "metadata": {
            "tags": []
          }
        }
      ]
    },
    {
      "cell_type": "markdown",
      "metadata": {
        "id": "rShfe2vb0Bvw"
      },
      "source": [
        "#**Animal By-Product Yields**\r\n",
        "--------------------------------------------------------------------------------\r\n",
        "Summary of animal by-products produced in China and the United States of America.\r\n",
        "Animal by-products, is defined by the USDA, as \"products harvested or manufactured from livestock other than muscle meat  for instance, wool, and eggs.\r\n",
        "With China and the USA being some of the largest producers of eggs, and with China being one of the worlds top 8 countries that have a high annual average of egg consumption per person. Japan is the leader, with an annual average for one person at 320 eggs.  "
      ]
    },
    {
      "cell_type": "markdown",
      "metadata": {
        "id": "wzJaAvL2LdyB"
      },
      "source": [
        "*_Egg Production Hypothesis:_*\r\n",
        "--------------------------------------------------------------------------------\r\n",
        "\r\n",
        "*_Null hypothesis:_* The mean for egg yield, is equal.\r\n",
        "\r\n",
        "*_Alternative hypothesis:_* The mean for egg yield is not equal.\r\n",
        "\r\n",
        "_For this analysis, we are going to take a look at the number of eggs produced in both the US and China. Eggs are a source of protein and a food that is seen for breakfast, lunch and dinner around the world._ \r\n",
        "\r\n"
      ]
    },
    {
      "cell_type": "code",
      "metadata": {
        "colab": {
          "base_uri": "https://localhost:8080/"
        },
        "id": "-KQFj-GvPXny",
        "outputId": "89ff6083-e63b-49c0-b22e-49406e690685"
      },
      "source": [
        "descript_df(eggs_df)"
      ],
      "execution_count": null,
      "outputs": [
        {
          "output_type": "stream",
          "text": [
            "<class 'pandas.core.frame.DataFrame'>\n",
            "RangeIndex: 59 entries, 0 to 58\n",
            "Data columns (total 8 columns):\n",
            " #   Column        Non-Null Count  Dtype \n",
            "---  ------        --------------  ----- \n",
            " 0   US Egg Yield  59 non-null     object\n",
            " 1   Bird Type.US  59 non-null     object\n",
            " 2   Year.Egg.US   59 non-null     int64 \n",
            " 3   Value.Egg.US  59 non-null     int64 \n",
            " 4   China Eggs    59 non-null     object\n",
            " 5   Bird Type.C   59 non-null     object\n",
            " 6   Year.Egg.C    59 non-null     int64 \n",
            " 7   Value.Egg.C   59 non-null     int64 \n",
            "dtypes: int64(4), object(4)\n",
            "memory usage: 3.8+ KB\n"
          ],
          "name": "stdout"
        },
        {
          "output_type": "execute_result",
          "data": {
            "text/plain": [
              "(((59, 8),),\n",
              " (None,),\n",
              " (       Year.Egg.US   Value.Egg.US   Year.Egg.C    Value.Egg.C\n",
              "  count    59.000000      59.000000    59.000000      59.000000\n",
              "  mean   1990.000000  146654.881356  1990.000000   71313.237288\n",
              "  std      17.175564   11858.335203    17.175564   30143.105891\n",
              "  min    1961.000000  124612.000000  1961.000000   30371.000000\n",
              "  25%    1975.500000  137909.000000  1975.500000   37077.500000\n",
              "  50%    1990.000000  148886.000000  1990.000000   84748.000000\n",
              "  75%    2004.500000  154677.500000  2004.500000   96375.000000\n",
              "  max    2019.000000  167814.000000  2019.000000  135414.000000,),\n",
              " (US Egg Yield    0\n",
              "  Bird Type.US    0\n",
              "  Year.Egg.US     0\n",
              "  Value.Egg.US    0\n",
              "  China Eggs      0\n",
              "  Bird Type.C     0\n",
              "  Year.Egg.C      0\n",
              "  Value.Egg.C     0\n",
              "  dtype: int64,))"
            ]
          },
          "metadata": {
            "tags": []
          },
          "execution_count": 179
        }
      ]
    },
    {
      "cell_type": "code",
      "metadata": {
        "colab": {
          "base_uri": "https://localhost:8080/"
        },
        "id": "zQsyvuSx58lU",
        "outputId": "ec9a61c1-82f2-4db0-a2ca-c4851a3c2802"
      },
      "source": [
        "descript_col(eggs_df['Value.Egg.US'])"
      ],
      "execution_count": null,
      "outputs": [
        {
          "output_type": "execute_result",
          "data": {
            "text/plain": [
              "((count        59.000000\n",
              "  mean     146654.881356\n",
              "  std       11858.335203\n",
              "  min      124612.000000\n",
              "  25%      137909.000000\n",
              "  50%      148886.000000\n",
              "  75%      154677.500000\n",
              "  max      167814.000000\n",
              "  Name: Value.Egg.US, dtype: float64,), 0     False\n",
              " 1     False\n",
              " 2     False\n",
              " 3     False\n",
              " 4     False\n",
              " 5     False\n",
              " 6     False\n",
              " 7     False\n",
              " 8     False\n",
              " 9     False\n",
              " 10    False\n",
              " 11    False\n",
              " 12    False\n",
              " 13    False\n",
              " 14    False\n",
              " 15    False\n",
              " 16    False\n",
              " 17    False\n",
              " 18    False\n",
              " 19    False\n",
              " 20    False\n",
              " 21    False\n",
              " 22    False\n",
              " 23    False\n",
              " 24    False\n",
              " 25    False\n",
              " 26    False\n",
              " 27    False\n",
              " 28    False\n",
              " 29    False\n",
              " 30    False\n",
              " 31    False\n",
              " 32    False\n",
              " 33    False\n",
              " 34    False\n",
              " 35    False\n",
              " 36    False\n",
              " 37    False\n",
              " 38    False\n",
              " 39    False\n",
              " 40    False\n",
              " 41    False\n",
              " 42    False\n",
              " 43    False\n",
              " 44    False\n",
              " 45    False\n",
              " 46    False\n",
              " 47    False\n",
              " 48    False\n",
              " 49    False\n",
              " 50    False\n",
              " 51    False\n",
              " 52    False\n",
              " 53    False\n",
              " 54    False\n",
              " 55    False\n",
              " 56    False\n",
              " 57    False\n",
              " 58    False\n",
              " Name: Value.Egg.US, dtype: bool)"
            ]
          },
          "metadata": {
            "tags": []
          },
          "execution_count": 180
        }
      ]
    },
    {
      "cell_type": "code",
      "metadata": {
        "colab": {
          "base_uri": "https://localhost:8080/"
        },
        "id": "XtSoEcsh6OZ9",
        "outputId": "305f53aa-be35-4b0c-cca6-9670298eb94a"
      },
      "source": [
        "descript_col(eggs_df['Value.Egg.C'])"
      ],
      "execution_count": null,
      "outputs": [
        {
          "output_type": "execute_result",
          "data": {
            "text/plain": [
              "((count        59.000000\n",
              "  mean      71313.237288\n",
              "  std       30143.105891\n",
              "  min       30371.000000\n",
              "  25%       37077.500000\n",
              "  50%       84748.000000\n",
              "  75%       96375.000000\n",
              "  max      135414.000000\n",
              "  Name: Value.Egg.C, dtype: float64,), 0     False\n",
              " 1     False\n",
              " 2     False\n",
              " 3     False\n",
              " 4     False\n",
              " 5     False\n",
              " 6     False\n",
              " 7     False\n",
              " 8     False\n",
              " 9     False\n",
              " 10    False\n",
              " 11    False\n",
              " 12    False\n",
              " 13    False\n",
              " 14    False\n",
              " 15    False\n",
              " 16    False\n",
              " 17    False\n",
              " 18    False\n",
              " 19    False\n",
              " 20    False\n",
              " 21    False\n",
              " 22    False\n",
              " 23    False\n",
              " 24    False\n",
              " 25    False\n",
              " 26    False\n",
              " 27    False\n",
              " 28    False\n",
              " 29    False\n",
              " 30    False\n",
              " 31    False\n",
              " 32    False\n",
              " 33    False\n",
              " 34    False\n",
              " 35    False\n",
              " 36    False\n",
              " 37    False\n",
              " 38    False\n",
              " 39    False\n",
              " 40    False\n",
              " 41    False\n",
              " 42    False\n",
              " 43    False\n",
              " 44    False\n",
              " 45    False\n",
              " 46    False\n",
              " 47    False\n",
              " 48    False\n",
              " 49    False\n",
              " 50    False\n",
              " 51    False\n",
              " 52    False\n",
              " 53    False\n",
              " 54    False\n",
              " 55    False\n",
              " 56    False\n",
              " 57    False\n",
              " 58    False\n",
              " Name: Value.Egg.C, dtype: bool)"
            ]
          },
          "metadata": {
            "tags": []
          },
          "execution_count": 181
        }
      ]
    },
    {
      "cell_type": "markdown",
      "metadata": {
        "id": "gY9PBrTD6Fie"
      },
      "source": [
        "##*Results*"
      ]
    },
    {
      "cell_type": "markdown",
      "metadata": {
        "id": "8-FNR11E6Cv-"
      },
      "source": [
        "T-Test"
      ]
    },
    {
      "cell_type": "code",
      "metadata": {
        "colab": {
          "base_uri": "https://localhost:8080/"
        },
        "id": "IM8WhzsJ2LAS",
        "outputId": "a941d01c-d80c-435f-a6ff-7de6cee8439e"
      },
      "source": [
        "test(eggs_df['Value.Egg.US'], eggs_df['Value.Egg.C'])"
      ],
      "execution_count": null,
      "outputs": [
        {
          "output_type": "execute_result",
          "data": {
            "text/plain": [
              "Ttest_indResult(statistic=17.865960969317417, pvalue=4.263834601128711e-35)"
            ]
          },
          "metadata": {
            "tags": []
          },
          "execution_count": 182
        }
      ]
    },
    {
      "cell_type": "markdown",
      "metadata": {
        "id": "dcpNKyRP6-hk"
      },
      "source": [
        "We reject the Null hypothesis. There is a signficant difference in the mean's. We would see even more extreme difference in mean's if we included all the countries. "
      ]
    },
    {
      "cell_type": "code",
      "metadata": {
        "colab": {
          "base_uri": "https://localhost:8080/"
        },
        "id": "M3S6lB1L2tKe",
        "outputId": "1261bf65-4365-4700-9b37-f71492afedd3"
      },
      "source": [
        "get_ci(eggs_df['Value.Egg.US'], eggs_df['Value.Egg.C'])"
      ],
      "execution_count": null,
      "outputs": [
        {
          "output_type": "execute_result",
          "data": {
            "text/plain": [
              "('Descriptive Stats for the USA are:',\n",
              " 'count        59.000000\\nmean     146654.881356\\nstd       11858.335203\\nmin      124612.000000\\n25%      137909.000000\\n50%      148886.000000\\n75%      154677.500000\\nmax      167814.000000\\nName: Value.Egg.US, dtype: float64',\n",
              " 'The descriptive stats for China are:',\n",
              " 'count        59.000000\\nmean      71313.237288\\nstd       30143.105891\\nmin       30371.000000\\n25%       37077.500000\\n50%       84748.000000\\n75%       96375.000000\\nmax      135414.000000\\nName: Value.Egg.C, dtype: float64',\n",
              " 'The count for USA : 59',\n",
              " 'The count for China 59',\n",
              " 'The mean for the USA is 146654.88135593222',\n",
              " 'The mean for China is  71313.2372881356',\n",
              " 'The Variance for the USA is  140620113.79602566',\n",
              " 'The Variance for China is 908606832.7703102',\n",
              " 'The Mean difference is: -75341.64406779662',\n",
              " 'The Standard Error of Difference is: 4217.049628463121',\n",
              " 'The Confidence interval is: 8265.417271787717',\n",
              " 'The lower and upper parameters for the mean are: -83607.06133958434 -67076.2267960089',\n",
              " 'The difference in means is at the 95% Confidence level, and (two-tail) is between -83607.06133958434 and -67076.2267960089')"
            ]
          },
          "metadata": {
            "tags": []
          },
          "execution_count": 183
        }
      ]
    },
    {
      "cell_type": "markdown",
      "metadata": {
        "id": "qqm-IKAjAf25"
      },
      "source": [
        "##***Graphs***\r\n",
        "*Egg Yield*"
      ]
    },
    {
      "cell_type": "code",
      "metadata": {
        "colab": {
          "base_uri": "https://localhost:8080/"
        },
        "id": "rw8jprOmMZ_I",
        "outputId": "b902579f-5517-4f10-c13d-2c41d21f8e30"
      },
      "source": [
        "disgraph(eggs_df['Value.Egg.US'],eggs_df['Value.Egg.C'])"
      ],
      "execution_count": null,
      "outputs": [
        {
          "output_type": "execute_result",
          "data": {
            "text/plain": [
              "((<matplotlib.axes._subplots.AxesSubplot at 0x7f0a744a8390>,),\n",
              " <matplotlib.axes._subplots.AxesSubplot at 0x7f0a744a8390>)"
            ]
          },
          "metadata": {
            "tags": []
          },
          "execution_count": 184
        },
        {
          "output_type": "display_data",
          "data": {
            "image/png": "[encoded data removed]",
            "text/plain": [
              "<Figure size 432x288 with 1 Axes>"
            ]
          },
          "metadata": {
            "tags": []
          }
        }
      ]
    },
    {
      "cell_type": "code",
      "metadata": {
        "colab": {
          "base_uri": "https://localhost:8080/"
        },
        "id": "U_XQ8X-FKfHf",
        "outputId": "6a907010-93e1-4447-a125-fa91ff33b155"
      },
      "source": [
        "linegraph(eggs_df['Value.Egg.US'], eggs_df['Year.Egg.US'], eggs_df['Value.Egg.C'], eggs_df['Year.Egg.C'])"
      ],
      "execution_count": null,
      "outputs": [
        {
          "output_type": "execute_result",
          "data": {
            "text/plain": [
              "((<matplotlib.axes._subplots.AxesSubplot at 0x7f0a73f3f5f8>,),\n",
              " <matplotlib.axes._subplots.AxesSubplot at 0x7f0a73f3f5f8>)"
            ]
          },
          "metadata": {
            "tags": []
          },
          "execution_count": 185
        },
        {
          "output_type": "display_data",
          "data": {
            "image/png": "[encoded data removed]",
            "text/plain": [
              "<Figure size 432x288 with 1 Axes>"
            ]
          },
          "metadata": {
            "tags": []
          }
        }
      ]
    },
    {
      "cell_type": "markdown",
      "metadata": {
        "id": "HifmHpIHEOf-"
      },
      "source": [
        "Population and Egg Production "
      ]
    },
    {
      "cell_type": "code",
      "metadata": {
        "colab": {
          "base_uri": "https://localhost:8080/"
        },
        "id": "M4Z5O3GZCQyM",
        "outputId": "fa27e3e2-d3b2-4288-f101-c12212b2204e"
      },
      "source": [
        "sns.lineplot(y=eggs_df['Value.Egg.US'], x= eggs_df['Year.Egg.US'])\r\n",
        "sns.lineplot(y= population_df['US.pop.Value'], x = population_df['US.pop.Year'])\r\n",
        "sns.lineplot(y=population_df['C.pop.Value'], x=population_df['C.pop.Year'])\r\n",
        "sns.lineplot(y= eggs_df['Value.Egg.C'], x=eggs_df['Year.Egg.C'])"
      ],
      "execution_count": null,
      "outputs": [
        {
          "output_type": "execute_result",
          "data": {
            "text/plain": [
              "<matplotlib.axes._subplots.AxesSubplot at 0x7f0a74605ef0>"
            ]
          },
          "metadata": {
            "tags": []
          },
          "execution_count": 186
        },
        {
          "output_type": "display_data",
          "data": {
            "image/png": "[encoded data removed]",
            "text/plain": [
              "<Figure size 432x288 with 1 Axes>"
            ]
          },
          "metadata": {
            "tags": []
          }
        }
      ]
    },
    {
      "cell_type": "code",
      "metadata": {
        "colab": {
          "base_uri": "https://localhost:8080/"
        },
        "id": "cXM2lAwCzTjt",
        "outputId": "e5442097-3cdd-4b28-e4f1-818056f556c3"
      },
      "source": [
        "box(population_df['US.pop.Value'],  population_df['US.pop.Year'], eggs_df['Value.Egg.US'], eggs_df['Year.Egg.US'])"
      ],
      "execution_count": null,
      "outputs": [
        {
          "output_type": "execute_result",
          "data": {
            "text/plain": [
              "(<matplotlib.axes._subplots.AxesSubplot at 0x7f0a73f12278>,\n",
              " <matplotlib.axes._subplots.AxesSubplot at 0x7f0a73f12278>)"
            ]
          },
          "metadata": {
            "tags": []
          },
          "execution_count": 187
        },
        {
          "output_type": "display_data",
          "data": {
            "image/png": "[encoded data removed]",
            "text/plain": [
              "<Figure size 432x288 with 1 Axes>"
            ]
          },
          "metadata": {
            "tags": []
          }
        }
      ]
    },
    {
      "cell_type": "code",
      "metadata": {
        "colab": {
          "base_uri": "https://localhost:8080/"
        },
        "id": "T2SuezXcztjQ",
        "outputId": "4bc6f00e-3496-4b7b-df14-3c5440479731"
      },
      "source": [
        "box(population_df['C.pop.Value'],  population_df['C.pop.Year'], eggs_df['Value.Egg.C'], eggs_df['Year.Egg.C'])"
      ],
      "execution_count": null,
      "outputs": [
        {
          "output_type": "execute_result",
          "data": {
            "text/plain": [
              "(<matplotlib.axes._subplots.AxesSubplot at 0x7f0a73754f28>,\n",
              " <matplotlib.axes._subplots.AxesSubplot at 0x7f0a73754f28>)"
            ]
          },
          "metadata": {
            "tags": []
          },
          "execution_count": 188
        },
        {
          "output_type": "display_data",
          "data": {
            "image/png": "[encoded data removed]",
            "text/plain": [
              "<Figure size 432x288 with 1 Axes>"
            ]
          },
          "metadata": {
            "tags": []
          }
        }
      ]
    },
    {
      "cell_type": "markdown",
      "metadata": {
        "id": "Jv6DWF9VeBNA"
      },
      "source": [
        "#**Meats**\r\n",
        "--------------------------------------------------------------------------------\r\n",
        "Now we will examine meat totals for the USA and China. For an ever-growing economy meat production should increase.\r\n",
        "With China and the USA being top meat producer’s, we should not be able to reject the null hypothesis, as we are comparing top meat  producers in the world. \r\n",
        "In 2019 China produced around 90,000,000 metric tons of meat, followed by the United States who produced 48,000,000 metric tons of meat.  "
      ]
    },
    {
      "cell_type": "markdown",
      "metadata": {
        "id": "wMjWf-xhB0tY"
      },
      "source": [
        "##*Meat for Human Consumption*\r\n",
        "\r\n",
        "\r\n",
        "---\r\n",
        "\r\n",
        "\r\n",
        "*Null Hypothesis:* The means for each country are equal.\r\n",
        "\r\n",
        "*Alternative Hypothesis:* The means are not equal.\r\n",
        "\r\n",
        "\r\n",
        " \r\n",
        "                                                     \r\n",
        "*This total represents the number of animals slaughtered for human consumption*\r\n"
      ]
    },
    {
      "cell_type": "code",
      "metadata": {
        "colab": {
          "base_uri": "https://localhost:8080/"
        },
        "id": "kI95kfgrei89",
        "outputId": "25cdfe38-40f5-49a7-823a-cbbf0ef08d91"
      },
      "source": [
        "descript_df(meats_df)"
      ],
      "execution_count": null,
      "outputs": [
        {
          "output_type": "stream",
          "text": [
            "<class 'pandas.core.frame.DataFrame'>\n",
            "RangeIndex: 796 entries, 0 to 795\n",
            "Data columns (total 8 columns):\n",
            " #   Column           Non-Null Count  Dtype  \n",
            "---  ------           --------------  -----  \n",
            " 0   US.Meat          442 non-null    object \n",
            " 1   Meat type        442 non-null    object \n",
            " 2   Year.M.US        442 non-null    float64\n",
            " 3   Value.Meat.US    442 non-null    float64\n",
            " 4   China Meat       796 non-null    object \n",
            " 5   Meat Type China  796 non-null    object \n",
            " 6   Year.M.C         796 non-null    int64  \n",
            " 7   Value.M.C        796 non-null    int64  \n",
            "dtypes: float64(2), int64(2), object(4)\n",
            "memory usage: 49.9+ KB\n"
          ],
          "name": "stdout"
        },
        {
          "output_type": "execute_result",
          "data": {
            "text/plain": [
              "(((796, 8),),\n",
              " (None,),\n",
              " (         Year.M.US  Value.Meat.US     Year.M.C     Value.M.C\n",
              "  count   442.000000   4.420000e+02   796.000000  7.960000e+02\n",
              "  mean   1990.984163   1.937654e+07  1990.543970  3.834104e+07\n",
              "  std      17.029845   3.244804e+07    17.050036  1.124346e+08\n",
              "  min    1961.000000   9.344000e+03  1961.000000  1.600000e+02\n",
              "  25%    1976.000000   1.217362e+05  1976.000000  1.859275e+05\n",
              "  50%    1992.000000   2.540400e+06  1991.000000  7.987600e+05\n",
              "  75%    2006.000000   3.374562e+07  2005.000000  9.162082e+06\n",
              "  max    2019.000000   1.299890e+08  2019.000000  7.449179e+08,),\n",
              " (US.Meat            354\n",
              "  Meat type          354\n",
              "  Year.M.US          354\n",
              "  Value.Meat.US      354\n",
              "  China Meat           0\n",
              "  Meat Type China      0\n",
              "  Year.M.C             0\n",
              "  Value.M.C            0\n",
              "  dtype: int64,))"
            ]
          },
          "metadata": {
            "tags": []
          },
          "execution_count": 189
        }
      ]
    },
    {
      "cell_type": "code",
      "metadata": {
        "colab": {
          "base_uri": "https://localhost:8080/"
        },
        "id": "2l07rXu_B_rJ",
        "outputId": "10e380d3-ea00-443a-9d1d-3366657f5cf3"
      },
      "source": [
        "descript_col(meats_df['Value.Meat.US'])"
      ],
      "execution_count": null,
      "outputs": [
        {
          "output_type": "execute_result",
          "data": {
            "text/plain": [
              "((count    4.420000e+02\n",
              "  mean     1.937654e+07\n",
              "  std      3.244804e+07\n",
              "  min      9.344000e+03\n",
              "  25%      1.217362e+05\n",
              "  50%      2.540400e+06\n",
              "  75%      3.374562e+07\n",
              "  max      1.299890e+08\n",
              "  Name: Value.Meat.US, dtype: float64,), 0      False\n",
              " 1      False\n",
              " 2      False\n",
              " 3      False\n",
              " 4      False\n",
              "        ...  \n",
              " 791     True\n",
              " 792     True\n",
              " 793     True\n",
              " 794     True\n",
              " 795     True\n",
              " Name: Value.Meat.US, Length: 796, dtype: bool)"
            ]
          },
          "metadata": {
            "tags": []
          },
          "execution_count": 190
        }
      ]
    },
    {
      "cell_type": "code",
      "metadata": {
        "colab": {
          "base_uri": "https://localhost:8080/"
        },
        "id": "ynsXcP6XbA_6",
        "outputId": "8c65b195-2090-48f5-fc24-9011bef564cc"
      },
      "source": [
        "descript_col(meats_df['Value.M.C'])"
      ],
      "execution_count": null,
      "outputs": [
        {
          "output_type": "execute_result",
          "data": {
            "text/plain": [
              "((count    7.960000e+02\n",
              "  mean     3.834104e+07\n",
              "  std      1.124346e+08\n",
              "  min      1.600000e+02\n",
              "  25%      1.859275e+05\n",
              "  50%      7.987600e+05\n",
              "  75%      9.162082e+06\n",
              "  max      7.449179e+08\n",
              "  Name: Value.M.C, dtype: float64,), 0      False\n",
              " 1      False\n",
              " 2      False\n",
              " 3      False\n",
              " 4      False\n",
              "        ...  \n",
              " 791    False\n",
              " 792    False\n",
              " 793    False\n",
              " 794    False\n",
              " 795    False\n",
              " Name: Value.M.C, Length: 796, dtype: bool)"
            ]
          },
          "metadata": {
            "tags": []
          },
          "execution_count": 191
        }
      ]
    },
    {
      "cell_type": "markdown",
      "metadata": {
        "id": "iGGjQvYNm-BM"
      },
      "source": [
        "##*Results*\r\n",
        "------------------------------------------------------------\r\n",
        "*Meat Data Frame*\r\n"
      ]
    },
    {
      "cell_type": "code",
      "metadata": {
        "colab": {
          "base_uri": "https://localhost:8080/"
        },
        "id": "bQR84lmbFNlI",
        "outputId": "059692c2-2606-40b2-edf5-774de6e1faa7"
      },
      "source": [
        "test(meats_df.dropna()['Value.Meat.US'], meats_df.dropna()['Value.M.C'])"
      ],
      "execution_count": null,
      "outputs": [
        {
          "output_type": "execute_result",
          "data": {
            "text/plain": [
              "Ttest_indResult(statistic=3.5576389475724883, pvalue=0.0003941491856008898)"
            ]
          },
          "metadata": {
            "tags": []
          },
          "execution_count": 192
        }
      ]
    },
    {
      "cell_type": "markdown",
      "metadata": {
        "id": "9MmT5kXg48E9"
      },
      "source": [
        "With a P-Value of .0003, We reject the null hypothesis with a P-value less than .05, there is a signficant difference in the means. "
      ]
    },
    {
      "cell_type": "code",
      "metadata": {
        "colab": {
          "base_uri": "https://localhost:8080/"
        },
        "id": "y2Ssu8-Q57mA",
        "outputId": "97007cad-d5c3-4cc7-ae2e-1e2fcd1ef15f"
      },
      "source": [
        "get_ci(meats_df.dropna()['Value.Meat.US'], meats_df.dropna()['Value.M.C'])"
      ],
      "execution_count": null,
      "outputs": [
        {
          "output_type": "execute_result",
          "data": {
            "text/plain": [
              "('Descriptive Stats for the USA are:',\n",
              " 'count    4.420000e+02\\nmean     1.937654e+07\\nstd      3.244804e+07\\nmin      9.344000e+03\\n25%      1.217362e+05\\n50%      2.540400e+06\\n75%      3.374562e+07\\nmax      1.299890e+08\\nName: Value.Meat.US, dtype: float64',\n",
              " 'The descriptive stats for China are:',\n",
              " 'count    4.420000e+02\\nmean     1.192981e+07\\nstd      2.972680e+07\\nmin      1.710000e+02\\n25%      2.595402e+05\\n50%      1.502824e+06\\n75%      5.530777e+06\\nmax      1.627604e+08\\nName: Value.M.C, dtype: float64',\n",
              " 'The count for USA : 442',\n",
              " 'The count for China 442',\n",
              " 'The mean for the USA is 19376543.477375567',\n",
              " 'The mean for China is  11929807.13122172',\n",
              " 'The Variance for the USA is  1052875039611601.4',\n",
              " 'The Variance for China is 883682846198667.8',\n",
              " 'The Mean difference is: -7446736.346153848',\n",
              " 'The Standard Error of Difference is: 2093168.097126617',\n",
              " 'The Confidence interval is: 4102609.4703681692',\n",
              " 'The lower and upper parameters for the mean are: -11549345.816522017 -3344126.8757856786',\n",
              " 'The difference in means is at the 95% Confidence level, and (two-tail) is between -11549345.816522017 and -3344126.8757856786')"
            ]
          },
          "metadata": {
            "tags": []
          },
          "execution_count": 193
        }
      ]
    },
    {
      "cell_type": "markdown",
      "metadata": {
        "id": "jkBt9b0_4mD6"
      },
      "source": [
        "##*Graphs*\r\n",
        "--------------------------------------------------------------------------------\r\n",
        "*Meat Data Frame*"
      ]
    },
    {
      "cell_type": "markdown",
      "metadata": {
        "id": "_TKnezMo6jEG"
      },
      "source": [
        "Meats over time with China being represented with an orange line and the US with the blue line"
      ]
    },
    {
      "cell_type": "code",
      "metadata": {
        "colab": {
          "base_uri": "https://localhost:8080/"
        },
        "id": "S_YM30GP4rBp",
        "outputId": "7ca25938-5085-4063-c57b-3ca1846a5ef9"
      },
      "source": [
        "linegraph(meats_df.dropna()['Value.Meat.US'], meats_df.dropna()['Year.M.US'],meats_df.dropna()['Value.M.C'],meats_df.dropna()['Year.M.C'])"
      ],
      "execution_count": null,
      "outputs": [
        {
          "output_type": "execute_result",
          "data": {
            "text/plain": [
              "((<matplotlib.axes._subplots.AxesSubplot at 0x7f0a730248d0>,),\n",
              " <matplotlib.axes._subplots.AxesSubplot at 0x7f0a730248d0>)"
            ]
          },
          "metadata": {
            "tags": []
          },
          "execution_count": 194
        },
        {
          "output_type": "display_data",
          "data": {
            "image/png": "[encoded data removed]",
            "text/plain": [
              "<Figure size 432x288 with 1 Axes>"
            ]
          },
          "metadata": {
            "tags": []
          }
        }
      ]
    },
    {
      "cell_type": "markdown",
      "metadata": {
        "id": "ufe0R-LdeP_y"
      },
      "source": [
        "#***Land Use***\r\n",
        "--------------------------------------------------------------------------------\r\n",
        "With the ever-increasing population, our available amount of land is declining. Land is being rezoned, for either commercial or residential use. Soil is being contaminated or rezoned.\r\n",
        "\r\n",
        "\r\n",
        "As of 2018 the USA loses 9.5 acres of farmland every minute. With China on the verge of losing millions of hectares of arable land due to heavy metal pollution. The world faces many problem's when producing our resources.\r\n",
        "We still need to produce enough food for our growing population. Can we do this even though we are losing farmland.\r\n",
        "\r\n",
        "\r\n",
        "By using vertical farming, which is defined as \"the practice of growing produce in vertically stacked layers. The practice can use soil, hydroponic or aeroponic growing methods. Vertical farms attempt to produce food in challenging environments, like where arable land is rare or unavailable. (5) without vertical farming we already produce enough food for 10 Billion people, but due to waste, we cannot feed 10 billion people.\r\n",
        " \r\n"
      ]
    },
    {
      "cell_type": "markdown",
      "metadata": {
        "id": "tdWNwqtD-L3c"
      },
      "source": [
        "##*Farm Land*\r\n",
        "--------------------------------------------------------------------------------\r\n",
        "*Null Hypothesis:* The means are equal\r\n",
        "\r\n",
        "*Alternative Hypothesis:* The means are not equal.\r\n",
        "\r\n",
        "Summary amount of Area, used for crop production\r\n"
      ]
    },
    {
      "cell_type": "code",
      "metadata": {
        "colab": {
          "base_uri": "https://localhost:8080/",
          "height": 171
        },
        "id": "W8QYV1sB-pZg",
        "outputId": "9ff26391-4401-4185-d517-d83714b66f07"
      },
      "source": [
        "descript_df(area_df)"
      ],
      "execution_count": null,
      "outputs": [
        {
          "output_type": "error",
          "ename": "NameError",
          "evalue": "ignored",
          "traceback": [
            "\u001b[0;31m---------------------------------------------------------------------------\u001b[0m",
            "\u001b[0;31mNameError\u001b[0m                                 Traceback (most recent call last)",
            "\u001b[0;32m<ipython-input-1-9a3b36c8820a>\u001b[0m in \u001b[0;36m<module>\u001b[0;34m()\u001b[0m\n\u001b[0;32m----> 1\u001b[0;31m \u001b[0mdescript_df\u001b[0m\u001b[0;34m(\u001b[0m\u001b[0marea_df\u001b[0m\u001b[0;34m)\u001b[0m\u001b[0;34m\u001b[0m\u001b[0;34m\u001b[0m\u001b[0m\n\u001b[0m",
            "\u001b[0;31mNameError\u001b[0m: name 'descript_df' is not defined"
          ]
        }
      ]
    },
    {
      "cell_type": "code",
      "metadata": {
        "colab": {
          "base_uri": "https://localhost:8080/"
        },
        "id": "esKAOOJ6-2KE",
        "outputId": "e7150535-7df6-4c31-cbc2-32c93b32f86a"
      },
      "source": [
        "descript_col(area_df['US.Area.Value'])"
      ],
      "execution_count": null,
      "outputs": [
        {
          "output_type": "execute_result",
          "data": {
            "text/plain": [
              "((count    4.876000e+03\n",
              "  mean     1.199620e+06\n",
              "  std      4.838270e+06\n",
              "  min      1.500000e+01\n",
              "  25%      1.210525e+04\n",
              "  50%      4.253650e+04\n",
              "  75%      1.758025e+05\n",
              "  max      3.623675e+07\n",
              "  Name: US.Area.Value, dtype: float64,), 0       False\n",
              " 1       False\n",
              " 2       False\n",
              " 3       False\n",
              " 4       False\n",
              "         ...  \n",
              " 6329     True\n",
              " 6330     True\n",
              " 6331     True\n",
              " 6332     True\n",
              " 6333     True\n",
              " Name: US.Area.Value, Length: 6334, dtype: bool)"
            ]
          },
          "metadata": {
            "tags": []
          },
          "execution_count": 196
        }
      ]
    },
    {
      "cell_type": "code",
      "metadata": {
        "colab": {
          "base_uri": "https://localhost:8080/"
        },
        "id": "PDc_0HZR-110",
        "outputId": "4df5d1f2-6205-4d1b-c121-bf58cec990eb"
      },
      "source": [
        "descript_col(area_df['C.Area.Value'])"
      ],
      "execution_count": null,
      "outputs": [
        {
          "output_type": "execute_result",
          "data": {
            "text/plain": [
              "((count    6.334000e+03\n",
              "  mean     1.423797e+06\n",
              "  std      4.746721e+06\n",
              "  min      1.200000e+01\n",
              "  25%      1.491000e+04\n",
              "  50%      1.257075e+05\n",
              "  75%      7.038960e+05\n",
              "  max      4.499575e+07\n",
              "  Name: C.Area.Value, dtype: float64,), 0       False\n",
              " 1       False\n",
              " 2       False\n",
              " 3       False\n",
              " 4       False\n",
              "         ...  \n",
              " 6329    False\n",
              " 6330    False\n",
              " 6331    False\n",
              " 6332    False\n",
              " 6333    False\n",
              " Name: C.Area.Value, Length: 6334, dtype: bool)"
            ]
          },
          "metadata": {
            "tags": []
          },
          "execution_count": 197
        }
      ]
    },
    {
      "cell_type": "markdown",
      "metadata": {
        "id": "kI3Bb6SG_RhS"
      },
      "source": [
        "##*Results*\r\n",
        "--------------------------------------------------------------------------------\r\n",
        "_Farm Land Area_"
      ]
    },
    {
      "cell_type": "code",
      "metadata": {
        "colab": {
          "base_uri": "https://localhost:8080/"
        },
        "id": "76iqZ4Yj_77R",
        "outputId": "0169f00d-14d2-48ab-ee8b-e65f736268a2"
      },
      "source": [
        "test(area_df.dropna()['US.Area.Value'], area_df.dropna()['C.Area.Value'])"
      ],
      "execution_count": null,
      "outputs": [
        {
          "output_type": "execute_result",
          "data": {
            "text/plain": [
              "Ttest_indResult(statistic=0.9474748348953389, pvalue=0.3434203551702739)"
            ]
          },
          "metadata": {
            "tags": []
          },
          "execution_count": 198
        }
      ]
    },
    {
      "cell_type": "markdown",
      "metadata": {
        "id": "0dVSq6BFDGgU"
      },
      "source": [
        "We fail to reject the Null hypothesis. with a P-Value greater than .05. the difference in means is not signficant."
      ]
    },
    {
      "cell_type": "code",
      "metadata": {
        "colab": {
          "base_uri": "https://localhost:8080/"
        },
        "id": "UfCCrdrv_mQR",
        "outputId": "61f8fb93-52ee-4a08-dd55-f884a2dd4547"
      },
      "source": [
        "get_ci(area_df.dropna()['US.Area.Value'], area_df.dropna()['C.Area.Value'])"
      ],
      "execution_count": null,
      "outputs": [
        {
          "output_type": "execute_result",
          "data": {
            "text/plain": [
              "('Descriptive Stats for the USA are:',\n",
              " 'count    4.876000e+03\\nmean     1.199620e+06\\nstd      4.838270e+06\\nmin      1.500000e+01\\n25%      1.210525e+04\\n50%      4.253650e+04\\n75%      1.758025e+05\\nmax      3.623675e+07\\nName: US.Area.Value, dtype: float64',\n",
              " 'The descriptive stats for China are:',\n",
              " 'count    4.876000e+03\\nmean     1.110478e+06\\nstd      4.444424e+06\\nmin      1.200000e+01\\n25%      1.200000e+04\\n50%      7.592450e+04\\n75%      4.762912e+05\\nmax      4.499575e+07\\nName: C.Area.Value, dtype: float64',\n",
              " 'The count for USA : 4876',\n",
              " 'The count for China 4876',\n",
              " 'The mean for the USA is 1199620.3271123872',\n",
              " 'The mean for China is  1110477.6993437244',\n",
              " 'The Variance for the USA is  23408855856819.66',\n",
              " 'The Variance for China is 19752908921033.457',\n",
              " 'The Mean difference is: -89142.62776866276',\n",
              " 'The Standard Error of Difference is: 94084.42787666203',\n",
              " 'The Confidence interval is: 184405.47863825757',\n",
              " 'The lower and upper parameters for the mean are: -273548.10640692036 95262.85086959481',\n",
              " 'The difference in means is at the 95% Confidence level, and (two-tail) is between -273548.10640692036 and 95262.85086959481')"
            ]
          },
          "metadata": {
            "tags": []
          },
          "execution_count": 199
        }
      ]
    },
    {
      "cell_type": "markdown",
      "metadata": {
        "id": "eL5XrE4H-6g7"
      },
      "source": [
        "##*Graphs*\r\n",
        "--------------------------------------------------------------------------------\r\n",
        "Land used for Farm Production"
      ]
    },
    {
      "cell_type": "code",
      "metadata": {
        "colab": {
          "base_uri": "https://localhost:8080/"
        },
        "id": "ra1Xga8r_Tn2",
        "outputId": "bfc919e8-e431-4c44-c297-34f037b36cb3"
      },
      "source": [
        "linegraph(area_df.dropna()['US.Area.Value'], area_df.dropna()['US.Area.Year'],area_df.dropna()['C.Area.Value'], area_df.dropna()['C.Area.Year'])"
      ],
      "execution_count": null,
      "outputs": [
        {
          "output_type": "execute_result",
          "data": {
            "text/plain": [
              "((<matplotlib.axes._subplots.AxesSubplot at 0x7f0a72edc4a8>,),\n",
              " <matplotlib.axes._subplots.AxesSubplot at 0x7f0a72edc4a8>)"
            ]
          },
          "metadata": {
            "tags": []
          },
          "execution_count": 200
        },
        {
          "output_type": "display_data",
          "data": {
            "image/png": "[encoded data removed]",
            "text/plain": [
              "<Figure size 432x288 with 1 Axes>"
            ]
          },
          "metadata": {
            "tags": []
          }
        }
      ]
    },
    {
      "cell_type": "markdown",
      "metadata": {
        "id": "zhKBffigee6x"
      },
      "source": [
        "#***Crops Production***\r\n",
        "--------------------------------------------------------------------------------\r\n",
        "Crop Production is defined as the process of growing crops for domestic and commercial purposes. \r\n",
        "\r\n",
        "Crop production is related to harvested areas, returns per hectare and quantities produced. our data here relates to crops grown mainly for human consumption.\r\n",
        "\r\n",
        "Crop production is measured in tonnes per hectare, in thousand hectares and thousand tonnes. "
      ]
    },
    {
      "cell_type": "markdown",
      "metadata": {
        "id": "jkU9AzftGoHH"
      },
      "source": [
        "##*Production*\r\n",
        "--------------------------------------------------------------------------------\r\n",
        "\r\n",
        "\r\n",
        "*Crop Data Frame*\r\n"
      ]
    },
    {
      "cell_type": "code",
      "metadata": {
        "colab": {
          "base_uri": "https://localhost:8080/"
        },
        "id": "zF2YW5rsnb86",
        "outputId": "0471abb7-baf9-4d9e-a23b-d86664dbd66b"
      },
      "source": [
        "crops_df.head()"
      ],
      "execution_count": null,
      "outputs": [
        {
          "output_type": "execute_result",
          "data": {
            "text/html": [
              "<div>\n",
              "<style scoped>\n",
              "    .dataframe tbody tr th:only-of-type {\n",
              "        vertical-align: middle;\n",
              "    }\n",
              "\n",
              "    .dataframe tbody tr th {\n",
              "        vertical-align: top;\n",
              "    }\n",
              "\n",
              "    .dataframe thead th {\n",
              "        text-align: right;\n",
              "    }\n",
              "</style>\n",
              "<table border=\"1\" class=\"dataframe\">\n",
              "  <thead>\n",
              "    <tr style=\"text-align: right;\">\n",
              "      <th></th>\n",
              "      <th>US.Crop.Pro.Year</th>\n",
              "      <th>US.Crop.Pro.Element</th>\n",
              "      <th>US.Crop.Pro.Item</th>\n",
              "      <th>US.Crop.Pro.Value</th>\n",
              "      <th>C.Crop.Pro.Year</th>\n",
              "      <th>US.Crop.Pro.Element.1</th>\n",
              "      <th>C.Crop.Pro.Item</th>\n",
              "      <th>C.Crop.Pro.Value</th>\n",
              "    </tr>\n",
              "  </thead>\n",
              "  <tbody>\n",
              "    <tr>\n",
              "      <th>0</th>\n",
              "      <td>1961.0</td>\n",
              "      <td>Production</td>\n",
              "      <td>Almonds, with shell</td>\n",
              "      <td>60237.0</td>\n",
              "      <td>1985</td>\n",
              "      <td>Production</td>\n",
              "      <td>Almonds, with shell</td>\n",
              "      <td>5000</td>\n",
              "    </tr>\n",
              "    <tr>\n",
              "      <th>1</th>\n",
              "      <td>1962.0</td>\n",
              "      <td>Production</td>\n",
              "      <td>Almonds, with shell</td>\n",
              "      <td>43545.0</td>\n",
              "      <td>1986</td>\n",
              "      <td>Production</td>\n",
              "      <td>Almonds, with shell</td>\n",
              "      <td>5500</td>\n",
              "    </tr>\n",
              "    <tr>\n",
              "      <th>2</th>\n",
              "      <td>1963.0</td>\n",
              "      <td>Production</td>\n",
              "      <td>Almonds, with shell</td>\n",
              "      <td>54159.0</td>\n",
              "      <td>1987</td>\n",
              "      <td>Production</td>\n",
              "      <td>Almonds, with shell</td>\n",
              "      <td>5800</td>\n",
              "    </tr>\n",
              "    <tr>\n",
              "      <th>3</th>\n",
              "      <td>1964.0</td>\n",
              "      <td>Production</td>\n",
              "      <td>Almonds, with shell</td>\n",
              "      <td>68042.0</td>\n",
              "      <td>1988</td>\n",
              "      <td>Production</td>\n",
              "      <td>Almonds, with shell</td>\n",
              "      <td>6500</td>\n",
              "    </tr>\n",
              "    <tr>\n",
              "      <th>4</th>\n",
              "      <td>1965.0</td>\n",
              "      <td>Production</td>\n",
              "      <td>Almonds, with shell</td>\n",
              "      <td>66133.0</td>\n",
              "      <td>1989</td>\n",
              "      <td>Production</td>\n",
              "      <td>Almonds, with shell</td>\n",
              "      <td>7500</td>\n",
              "    </tr>\n",
              "  </tbody>\n",
              "</table>\n",
              "</div>"
            ],
            "text/plain": [
              "   US.Crop.Pro.Year US.Crop.Pro.Element  ...      C.Crop.Pro.Item  C.Crop.Pro.Value\n",
              "0            1961.0          Production  ...  Almonds, with shell              5000\n",
              "1            1962.0          Production  ...  Almonds, with shell              5500\n",
              "2            1963.0          Production  ...  Almonds, with shell              5800\n",
              "3            1964.0          Production  ...  Almonds, with shell              6500\n",
              "4            1965.0          Production  ...  Almonds, with shell              7500\n",
              "\n",
              "[5 rows x 8 columns]"
            ]
          },
          "metadata": {
            "tags": []
          },
          "execution_count": 201
        }
      ]
    },
    {
      "cell_type": "code",
      "metadata": {
        "id": "DLM_7UBHGsCQ",
        "colab": {
          "base_uri": "https://localhost:8080/"
        },
        "outputId": "94574724-cc4d-4f3c-919b-c391611e5ec0"
      },
      "source": [
        "descript_df(crops_df.dropna())"
      ],
      "execution_count": null,
      "outputs": [
        {
          "output_type": "stream",
          "text": [
            "<class 'pandas.core.frame.DataFrame'>\n",
            "Int64Index: 5054 entries, 0 to 5053\n",
            "Data columns (total 8 columns):\n",
            " #   Column                 Non-Null Count  Dtype  \n",
            "---  ------                 --------------  -----  \n",
            " 0   US.Crop.Pro.Year       5054 non-null   float64\n",
            " 1   US.Crop.Pro.Element    5054 non-null   object \n",
            " 2   US.Crop.Pro.Item       5054 non-null   object \n",
            " 3   US.Crop.Pro.Value      5054 non-null   float64\n",
            " 4   C.Crop.Pro.Year        5054 non-null   int64  \n",
            " 5   US.Crop.Pro.Element.1  5054 non-null   object \n",
            " 6   C.Crop.Pro.Item        5054 non-null   object \n",
            " 7   C.Crop.Pro.Value       5054 non-null   int64  \n",
            "dtypes: float64(2), int64(2), object(4)\n",
            "memory usage: 355.4+ KB\n"
          ],
          "name": "stdout"
        },
        {
          "output_type": "execute_result",
          "data": {
            "text/plain": [
              "(((5054, 8),),\n",
              " (None,),\n",
              " (       US.Crop.Pro.Year  US.Crop.Pro.Value  C.Crop.Pro.Year  C.Crop.Pro.Value\n",
              "  count       5054.000000       5.054000e+03      5054.000000      5.054000e+03\n",
              "  mean        1990.484369       5.985441e+06      1992.366047      6.725597e+06\n",
              "  std           17.056015       2.661224e+07        16.823520      2.490837e+07\n",
              "  min         1961.000000       4.000000e+01      1961.000000      4.000000e+01\n",
              "  25%         1976.000000       5.267875e+04      1978.000000      3.249800e+04\n",
              "  50%         1991.000000       3.572160e+05      1994.000000      3.502245e+05\n",
              "  75%         2005.000000       1.639324e+06      2007.000000      2.575332e+06\n",
              "  max         2019.000000       4.122622e+08      2019.000000      2.651573e+08,),\n",
              " (US.Crop.Pro.Year         0\n",
              "  US.Crop.Pro.Element      0\n",
              "  US.Crop.Pro.Item         0\n",
              "  US.Crop.Pro.Value        0\n",
              "  C.Crop.Pro.Year          0\n",
              "  US.Crop.Pro.Element.1    0\n",
              "  C.Crop.Pro.Item          0\n",
              "  C.Crop.Pro.Value         0\n",
              "  dtype: int64,))"
            ]
          },
          "metadata": {
            "tags": []
          },
          "execution_count": 202
        }
      ]
    },
    {
      "cell_type": "code",
      "metadata": {
        "id": "XJcrnKvGGz4q",
        "colab": {
          "base_uri": "https://localhost:8080/"
        },
        "outputId": "9b52d28c-d915-4dd8-f354-784c5e4e43dc"
      },
      "source": [
        "descript_col(crops_df.dropna()['US.Crop.Pro.Value'])"
      ],
      "execution_count": null,
      "outputs": [
        {
          "output_type": "execute_result",
          "data": {
            "text/plain": [
              "((count    5.054000e+03\n",
              "  mean     5.985441e+06\n",
              "  std      2.661224e+07\n",
              "  min      4.000000e+01\n",
              "  25%      5.267875e+04\n",
              "  50%      3.572160e+05\n",
              "  75%      1.639324e+06\n",
              "  max      4.122622e+08\n",
              "  Name: US.Crop.Pro.Value, dtype: float64,), 0       False\n",
              " 1       False\n",
              " 2       False\n",
              " 3       False\n",
              " 4       False\n",
              "         ...  \n",
              " 5049    False\n",
              " 5050    False\n",
              " 5051    False\n",
              " 5052    False\n",
              " 5053    False\n",
              " Name: US.Crop.Pro.Value, Length: 5054, dtype: bool)"
            ]
          },
          "metadata": {
            "tags": []
          },
          "execution_count": 203
        }
      ]
    },
    {
      "cell_type": "code",
      "metadata": {
        "id": "K7vd7qoBG4ud",
        "colab": {
          "base_uri": "https://localhost:8080/"
        },
        "outputId": "2d41632b-056a-449e-bdbf-4e459ac29e35"
      },
      "source": [
        "descript_col(crops_df.dropna()['C.Crop.Pro.Value'])"
      ],
      "execution_count": null,
      "outputs": [
        {
          "output_type": "execute_result",
          "data": {
            "text/plain": [
              "((count    5.054000e+03\n",
              "  mean     6.725597e+06\n",
              "  std      2.490837e+07\n",
              "  min      4.000000e+01\n",
              "  25%      3.249800e+04\n",
              "  50%      3.502245e+05\n",
              "  75%      2.575332e+06\n",
              "  max      2.651573e+08\n",
              "  Name: C.Crop.Pro.Value, dtype: float64,), 0       False\n",
              " 1       False\n",
              " 2       False\n",
              " 3       False\n",
              " 4       False\n",
              "         ...  \n",
              " 5049    False\n",
              " 5050    False\n",
              " 5051    False\n",
              " 5052    False\n",
              " 5053    False\n",
              " Name: C.Crop.Pro.Value, Length: 5054, dtype: bool)"
            ]
          },
          "metadata": {
            "tags": []
          },
          "execution_count": 204
        }
      ]
    },
    {
      "cell_type": "markdown",
      "metadata": {
        "id": "fOsQUQ9NoyRU"
      },
      "source": [
        "##*Results*\r\n",
        "--------------------------------------------------------------------------------\r\n",
        "*Crop Production Data Frame*"
      ]
    },
    {
      "cell_type": "code",
      "metadata": {
        "colab": {
          "base_uri": "https://localhost:8080/"
        },
        "id": "mfyUAD2XFmM-",
        "outputId": "e0789340-6be5-4d1a-ca86-d7caad50d4fa"
      },
      "source": [
        "test(crops_df.dropna()['US.Crop.Pro.Value'], crops_df.dropna()['C.Crop.Pro.Value'])"
      ],
      "execution_count": null,
      "outputs": [
        {
          "output_type": "execute_result",
          "data": {
            "text/plain": [
              "Ttest_indResult(statistic=-1.4435692961072892, pvalue=0.1488911636723133)"
            ]
          },
          "metadata": {
            "tags": []
          },
          "execution_count": 205
        }
      ]
    },
    {
      "cell_type": "markdown",
      "metadata": {
        "id": "XPDfXapTF2ON"
      },
      "source": [
        "We fail to reject the null hypothesis. With a P-Value greater than .05, there is currently not a signficant difference in the means. "
      ]
    },
    {
      "cell_type": "code",
      "metadata": {
        "id": "wa-Ibf3Jo2qq",
        "colab": {
          "base_uri": "https://localhost:8080/"
        },
        "outputId": "418761df-e481-4d0a-ffa4-0d4f4751ea09"
      },
      "source": [
        "get_ci(crops_df.dropna()['US.Crop.Pro.Value'], crops_df.dropna()['C.Crop.Pro.Value'])"
      ],
      "execution_count": null,
      "outputs": [
        {
          "output_type": "execute_result",
          "data": {
            "text/plain": [
              "('Descriptive Stats for the USA are:',\n",
              " 'count    5.054000e+03\\nmean     5.985441e+06\\nstd      2.661224e+07\\nmin      4.000000e+01\\n25%      5.267875e+04\\n50%      3.572160e+05\\n75%      1.639324e+06\\nmax      4.122622e+08\\nName: US.Crop.Pro.Value, dtype: float64',\n",
              " 'The descriptive stats for China are:',\n",
              " 'count    5.054000e+03\\nmean     6.725597e+06\\nstd      2.490837e+07\\nmin      4.000000e+01\\n25%      3.249800e+04\\n50%      3.502245e+05\\n75%      2.575332e+06\\nmax      2.651573e+08\\nName: C.Crop.Pro.Value, dtype: float64',\n",
              " 'The count for USA : 5054',\n",
              " 'The count for China 5054',\n",
              " 'The mean for the USA is 5985440.52374357',\n",
              " 'The mean for China is  6725596.84962406',\n",
              " 'The Variance for the USA is  708211544305268.5',\n",
              " 'The Variance for China is 620427086281861.2',\n",
              " 'The Mean difference is: 740156.3258804902',\n",
              " 'The Standard Error of Difference is: 512726.5645482943',\n",
              " 'The Confidence interval is: 1004944.0665146568',\n",
              " 'The lower and upper parameters for the mean are: -264787.7406341665 1745100.3923951471',\n",
              " 'The difference in means is at the 95% Confidence level, and (two-tail) is between -264787.7406341665 and 1745100.3923951471')"
            ]
          },
          "metadata": {
            "tags": []
          },
          "execution_count": 206
        }
      ]
    },
    {
      "cell_type": "markdown",
      "metadata": {
        "id": "IhlKxwDrpQG2"
      },
      "source": [
        "##*Production Graphs*\r\n",
        "--------------------------------------------------------------------------------\r\n",
        "*Crop Production*"
      ]
    },
    {
      "cell_type": "code",
      "metadata": {
        "id": "gV7nuiHQpbhF",
        "colab": {
          "base_uri": "https://localhost:8080/"
        },
        "outputId": "ba231823-2d14-4afb-bb27-d509f9bc9d41"
      },
      "source": [
        "sns.lineplot(y=crops_df.dropna()['US.Crop.Pro.Value'], x = crops_df.dropna()['US.Crop.Pro.Year'])"
      ],
      "execution_count": null,
      "outputs": [
        {
          "output_type": "execute_result",
          "data": {
            "text/plain": [
              "<matplotlib.axes._subplots.AxesSubplot at 0x7f0a72eb1b70>"
            ]
          },
          "metadata": {
            "tags": []
          },
          "execution_count": 207
        },
        {
          "output_type": "display_data",
          "data": {
            "image/png": "[encoded data removed]",
            "text/plain": [
              "<Figure size 432x288 with 1 Axes>"
            ]
          },
          "metadata": {
            "tags": []
          }
        }
      ]
    },
    {
      "cell_type": "code",
      "metadata": {
        "colab": {
          "base_uri": "https://localhost:8080/"
        },
        "id": "J8A8P9kB4BBJ",
        "outputId": "f4fe9b27-cd4e-42f4-ffaa-bd999d168214"
      },
      "source": [
        "linegraph(crops_df.dropna()['US.Crop.Pro.Value'], crops_df.dropna()['US.Crop.Pro.Year'],crops_df.dropna()['C.Crop.Pro.Value'], crops_df.dropna()['C.Crop.Pro.Year'])"
      ],
      "execution_count": null,
      "outputs": [
        {
          "output_type": "execute_result",
          "data": {
            "text/plain": [
              "((<matplotlib.axes._subplots.AxesSubplot at 0x7f0a72e247b8>,),\n",
              " <matplotlib.axes._subplots.AxesSubplot at 0x7f0a72e247b8>)"
            ]
          },
          "metadata": {
            "tags": []
          },
          "execution_count": 208
        },
        {
          "output_type": "display_data",
          "data": {
            "image/png": "[encoded data removed]",
            "text/plain": [
              "<Figure size 432x288 with 1 Axes>"
            ]
          },
          "metadata": {
            "tags": []
          }
        }
      ]
    },
    {
      "cell_type": "markdown",
      "metadata": {
        "id": "K7aScDHOet0R"
      },
      "source": [
        "#***Crop Yield***\r\n",
        "--------------------------------------------------------------------------------\r\n",
        " Crop yields are the harvested production per unit of harvested area for crop products"
      ]
    },
    {
      "cell_type": "markdown",
      "metadata": {
        "id": "dxfnXPS4JAuq"
      },
      "source": [
        "##***Yields Data Frame***\r\n",
        "--------------------------------------------------------------------------------\r\n",
        "*Crop Yields*\r\n"
      ]
    },
    {
      "cell_type": "code",
      "metadata": {
        "id": "_KouR85rJHsS",
        "colab": {
          "base_uri": "https://localhost:8080/"
        },
        "outputId": "bef04b8e-636b-4d31-c128-594263be4404"
      },
      "source": [
        "descript_df(yields_df.dropna())"
      ],
      "execution_count": null,
      "outputs": [
        {
          "output_type": "stream",
          "text": [
            "<class 'pandas.core.frame.DataFrame'>\n",
            "Int64Index: 4876 entries, 0 to 4875\n",
            "Data columns (total 6 columns):\n",
            " #   Column          Non-Null Count  Dtype  \n",
            "---  ------          --------------  -----  \n",
            " 0   US.Yield.Item   4876 non-null   object \n",
            " 1   US.Yield.Year   4876 non-null   float64\n",
            " 2   US.Yield.Value  4876 non-null   float64\n",
            " 3   C.Yield.Item    4876 non-null   object \n",
            " 4   C.Yield.Year    4876 non-null   int64  \n",
            " 5   C.Yield.Value   4876 non-null   int64  \n",
            "dtypes: float64(2), int64(2), object(2)\n",
            "memory usage: 266.7+ KB\n"
          ],
          "name": "stdout"
        },
        {
          "output_type": "execute_result",
          "data": {
            "text/plain": [
              "(((4876, 6),),\n",
              " (None,),\n",
              " (       US.Yield.Year  US.Yield.Value  C.Yield.Year  C.Yield.Value\n",
              "  count    4876.000000     4876.000000   4876.000000   4.876000e+03\n",
              "  mean     1990.732158   145036.146226   1992.266407   1.019896e+05\n",
              "  std        17.010031   162484.003853     16.755355   2.272016e+05\n",
              "  min      1961.000000     2867.000000   1961.000000   1.884000e+03\n",
              "  25%      1976.000000    24386.000000   1978.000000   1.767250e+04\n",
              "  50%      1991.000000    86607.000000   1994.000000   4.615400e+04\n",
              "  75%      2005.000000   207166.250000   2007.000000   1.240105e+05\n",
              "  max      2019.000000   993693.000000   2019.000000   3.077380e+06,),\n",
              " (US.Yield.Item     0\n",
              "  US.Yield.Year     0\n",
              "  US.Yield.Value    0\n",
              "  C.Yield.Item      0\n",
              "  C.Yield.Year      0\n",
              "  C.Yield.Value     0\n",
              "  dtype: int64,))"
            ]
          },
          "metadata": {
            "tags": []
          },
          "execution_count": 150
        }
      ]
    },
    {
      "cell_type": "code",
      "metadata": {
        "id": "lEHm1hOPJKGI",
        "colab": {
          "base_uri": "https://localhost:8080/"
        },
        "outputId": "cd25c558-441d-417d-a50a-c509caa83691"
      },
      "source": [
        "descript_col(yields.dropna()['US.Yield.Value'])"
      ],
      "execution_count": null,
      "outputs": [
        {
          "output_type": "execute_result",
          "data": {
            "text/plain": [
              "((count      4876.000000\n",
              "  mean     145036.146226\n",
              "  std      162484.003853\n",
              "  min        2867.000000\n",
              "  25%       24386.000000\n",
              "  50%       86607.000000\n",
              "  75%      207166.250000\n",
              "  max      993693.000000\n",
              "  Name: US.Yield.Value, dtype: float64,), 0       False\n",
              " 1       False\n",
              " 2       False\n",
              " 3       False\n",
              " 4       False\n",
              "         ...  \n",
              " 4871    False\n",
              " 4872    False\n",
              " 4873    False\n",
              " 4874    False\n",
              " 4875    False\n",
              " Name: US.Yield.Value, Length: 4876, dtype: bool)"
            ]
          },
          "metadata": {
            "tags": []
          },
          "execution_count": 149
        }
      ]
    },
    {
      "cell_type": "code",
      "metadata": {
        "id": "UMrkUFpx74UP",
        "colab": {
          "base_uri": "https://localhost:8080/"
        },
        "outputId": "c997bd0c-89b1-4c90-b6fc-ad8e9f852ba2"
      },
      "source": [
        "descript_col(yields.dropna()['C.Yield.Value'])"
      ],
      "execution_count": null,
      "outputs": [
        {
          "output_type": "execute_result",
          "data": {
            "text/plain": [
              "((count    4.876000e+03\n",
              "  mean     1.019896e+05\n",
              "  std      2.272016e+05\n",
              "  min      1.884000e+03\n",
              "  25%      1.767250e+04\n",
              "  50%      4.615400e+04\n",
              "  75%      1.240105e+05\n",
              "  max      3.077380e+06\n",
              "  Name: C.Yield.Value, dtype: float64,), 0       False\n",
              " 1       False\n",
              " 2       False\n",
              " 3       False\n",
              " 4       False\n",
              "         ...  \n",
              " 4871    False\n",
              " 4872    False\n",
              " 4873    False\n",
              " 4874    False\n",
              " 4875    False\n",
              " Name: C.Yield.Value, Length: 4876, dtype: bool)"
            ]
          },
          "metadata": {
            "tags": []
          },
          "execution_count": 148
        }
      ]
    },
    {
      "cell_type": "code",
      "metadata": {
        "id": "68ca1Uqc7-Y9",
        "colab": {
          "base_uri": "https://localhost:8080/",
          "height": 514
        },
        "outputId": "5f07d064-eccc-4d6a-a193-d6dc41f0f6b3"
      },
      "source": [
        "yields_df.dropna()"
      ],
      "execution_count": null,
      "outputs": [
        {
          "output_type": "execute_result",
          "data": {
            "text/html": [
              "<div>\n",
              "<style scoped>\n",
              "    .dataframe tbody tr th:only-of-type {\n",
              "        vertical-align: middle;\n",
              "    }\n",
              "\n",
              "    .dataframe tbody tr th {\n",
              "        vertical-align: top;\n",
              "    }\n",
              "\n",
              "    .dataframe thead th {\n",
              "        text-align: right;\n",
              "    }\n",
              "</style>\n",
              "<table border=\"1\" class=\"dataframe\">\n",
              "  <thead>\n",
              "    <tr style=\"text-align: right;\">\n",
              "      <th></th>\n",
              "      <th>US.Yield.Item</th>\n",
              "      <th>US.Yield.Year</th>\n",
              "      <th>US.Yield.Value</th>\n",
              "      <th>C.Yield.Item</th>\n",
              "      <th>C.Yield.Year</th>\n",
              "      <th>C.Yield.Value</th>\n",
              "    </tr>\n",
              "  </thead>\n",
              "  <tbody>\n",
              "    <tr>\n",
              "      <th>0</th>\n",
              "      <td>Almonds, with shell</td>\n",
              "      <td>1961.0</td>\n",
              "      <td>16669.0</td>\n",
              "      <td>Almonds, with shell</td>\n",
              "      <td>1985</td>\n",
              "      <td>16883</td>\n",
              "    </tr>\n",
              "    <tr>\n",
              "      <th>1</th>\n",
              "      <td>Almonds, with shell</td>\n",
              "      <td>1962.0</td>\n",
              "      <td>11558.0</td>\n",
              "      <td>Almonds, with shell</td>\n",
              "      <td>1986</td>\n",
              "      <td>16867</td>\n",
              "    </tr>\n",
              "    <tr>\n",
              "      <th>2</th>\n",
              "      <td>Almonds, with shell</td>\n",
              "      <td>1963.0</td>\n",
              "      <td>13684.0</td>\n",
              "      <td>Almonds, with shell</td>\n",
              "      <td>1987</td>\n",
              "      <td>16854</td>\n",
              "    </tr>\n",
              "    <tr>\n",
              "      <th>3</th>\n",
              "      <td>Almonds, with shell</td>\n",
              "      <td>1964.0</td>\n",
              "      <td>16517.0</td>\n",
              "      <td>Almonds, with shell</td>\n",
              "      <td>1988</td>\n",
              "      <td>16860</td>\n",
              "    </tr>\n",
              "    <tr>\n",
              "      <th>4</th>\n",
              "      <td>Almonds, with shell</td>\n",
              "      <td>1965.0</td>\n",
              "      <td>13932.0</td>\n",
              "      <td>Almonds, with shell</td>\n",
              "      <td>1989</td>\n",
              "      <td>17021</td>\n",
              "    </tr>\n",
              "    <tr>\n",
              "      <th>...</th>\n",
              "      <td>...</td>\n",
              "      <td>...</td>\n",
              "      <td>...</td>\n",
              "      <td>...</td>\n",
              "      <td>...</td>\n",
              "      <td>...</td>\n",
              "    </tr>\n",
              "    <tr>\n",
              "      <th>4871</th>\n",
              "      <td>Wheat</td>\n",
              "      <td>2015.0</td>\n",
              "      <td>29299.0</td>\n",
              "      <td>Safflower seed</td>\n",
              "      <td>1996</td>\n",
              "      <td>18824</td>\n",
              "    </tr>\n",
              "    <tr>\n",
              "      <th>4872</th>\n",
              "      <td>Wheat</td>\n",
              "      <td>2016.0</td>\n",
              "      <td>35408.0</td>\n",
              "      <td>Safflower seed</td>\n",
              "      <td>1997</td>\n",
              "      <td>11905</td>\n",
              "    </tr>\n",
              "    <tr>\n",
              "      <th>4873</th>\n",
              "      <td>Wheat</td>\n",
              "      <td>2017.0</td>\n",
              "      <td>31175.0</td>\n",
              "      <td>Safflower seed</td>\n",
              "      <td>1998</td>\n",
              "      <td>20833</td>\n",
              "    </tr>\n",
              "    <tr>\n",
              "      <th>4874</th>\n",
              "      <td>Wheat</td>\n",
              "      <td>2018.0</td>\n",
              "      <td>32005.0</td>\n",
              "      <td>Safflower seed</td>\n",
              "      <td>1999</td>\n",
              "      <td>8000</td>\n",
              "    </tr>\n",
              "    <tr>\n",
              "      <th>4875</th>\n",
              "      <td>Wheat</td>\n",
              "      <td>2019.0</td>\n",
              "      <td>34748.0</td>\n",
              "      <td>Safflower seed</td>\n",
              "      <td>2000</td>\n",
              "      <td>13000</td>\n",
              "    </tr>\n",
              "  </tbody>\n",
              "</table>\n",
              "<p>4876 rows × 6 columns</p>\n",
              "</div>"
            ],
            "text/plain": [
              "            US.Yield.Item  US.Yield.Year  ...  C.Yield.Year C.Yield.Value\n",
              "0     Almonds, with shell         1961.0  ...          1985         16883\n",
              "1     Almonds, with shell         1962.0  ...          1986         16867\n",
              "2     Almonds, with shell         1963.0  ...          1987         16854\n",
              "3     Almonds, with shell         1964.0  ...          1988         16860\n",
              "4     Almonds, with shell         1965.0  ...          1989         17021\n",
              "...                   ...            ...  ...           ...           ...\n",
              "4871                Wheat         2015.0  ...          1996         18824\n",
              "4872                Wheat         2016.0  ...          1997         11905\n",
              "4873                Wheat         2017.0  ...          1998         20833\n",
              "4874                Wheat         2018.0  ...          1999          8000\n",
              "4875                Wheat         2019.0  ...          2000         13000\n",
              "\n",
              "[4876 rows x 6 columns]"
            ]
          },
          "metadata": {
            "tags": []
          },
          "execution_count": 151
        }
      ]
    },
    {
      "cell_type": "markdown",
      "metadata": {
        "id": "2i5MLHyVe_bp"
      },
      "source": [
        "##*Results*"
      ]
    },
    {
      "cell_type": "code",
      "metadata": {
        "id": "NIiI5qECJhVo",
        "colab": {
          "base_uri": "https://localhost:8080/"
        },
        "outputId": "34a98527-2441-47d7-8c47-575b481f6ad1"
      },
      "source": [
        "test(yields_df.dropna()['US.Yield.Value'], yields_df.dropna()['C.Yield.Value'])"
      ],
      "execution_count": null,
      "outputs": [
        {
          "output_type": "execute_result",
          "data": {
            "text/plain": [
              "Ttest_indResult(statistic=10.76125413634921, pvalue=7.421250573295371e-27)"
            ]
          },
          "metadata": {
            "tags": []
          },
          "execution_count": 209
        }
      ]
    },
    {
      "cell_type": "markdown",
      "metadata": {
        "id": "n0MiqyPONB-Z"
      },
      "source": [
        "We Reject the null hypothesis. With a p-value less than .05, there is a signficant difference in the means."
      ]
    },
    {
      "cell_type": "code",
      "metadata": {
        "id": "1S--s9spJOSM",
        "colab": {
          "base_uri": "https://localhost:8080/"
        },
        "outputId": "c27c3df2-15d1-4f77-b1ac-082f26ed3c14"
      },
      "source": [
        "get_ci(yields_df.dropna()['US.Yield.Value'], yields_df.dropna()['C.Yield.Value'])"
      ],
      "execution_count": null,
      "outputs": [
        {
          "output_type": "execute_result",
          "data": {
            "text/plain": [
              "('Descriptive Stats for the USA are:',\n",
              " 'count      4876.000000\\nmean     145036.146226\\nstd      162484.003853\\nmin        2867.000000\\n25%       24386.000000\\n50%       86607.000000\\n75%      207166.250000\\nmax      993693.000000\\nName: US.Yield.Value, dtype: float64',\n",
              " 'The descriptive stats for China are:',\n",
              " 'count    4.876000e+03\\nmean     1.019896e+05\\nstd      2.272016e+05\\nmin      1.884000e+03\\n25%      1.767250e+04\\n50%      4.615400e+04\\n75%      1.240105e+05\\nmax      3.077380e+06\\nName: C.Yield.Value, dtype: float64',\n",
              " 'The count for USA : 4876',\n",
              " 'The count for China 4876',\n",
              " 'The mean for the USA is 145036.1462264151',\n",
              " 'The mean for China is  101989.58367514356',\n",
              " 'The Variance for the USA is  26401051508.188026',\n",
              " 'The Variance for China is 51620552641.60547',\n",
              " 'The Mean difference is: -43046.562551271534',\n",
              " 'The Standard Error of Difference is: 4000.1436640985416',\n",
              " 'The Confidence interval is: 7840.281581633141',\n",
              " 'The lower and upper parameters for the mean are: -50886.84413290468 -35206.28096963839',\n",
              " 'The difference in means is at the 95% Confidence level, and (two-tail) is between -50886.84413290468 and -35206.28096963839')"
            ]
          },
          "metadata": {
            "tags": []
          },
          "execution_count": 210
        }
      ]
    },
    {
      "cell_type": "markdown",
      "metadata": {
        "id": "pM261mx48Y5x"
      },
      "source": [
        "##*Crop Yield Graph*\r\n",
        "--------------------------------------------------------------------------------\r\n",
        "*Crop Yield*"
      ]
    },
    {
      "cell_type": "code",
      "metadata": {
        "id": "VqIfouGk8fRT",
        "colab": {
          "base_uri": "https://localhost:8080/",
          "height": 303
        },
        "outputId": "be304417-bfb0-4bab-d7cf-a50d2d0596be"
      },
      "source": [
        "hisgraph(yields_df.dropna()['US.Yield.Value'])\r\n"
      ],
      "execution_count": null,
      "outputs": [
        {
          "output_type": "execute_result",
          "data": {
            "text/plain": [
              "<matplotlib.axes._subplots.AxesSubplot at 0x7f0a74a95e48>"
            ]
          },
          "metadata": {
            "tags": []
          },
          "execution_count": 143
        },
        {
          "output_type": "display_data",
          "data": {
            "image/png": "[encoded data removed]",
            "text/plain": [
              "<Figure size 432x288 with 1 Axes>"
            ]
          },
          "metadata": {
            "tags": []
          }
        }
      ]
    },
    {
      "cell_type": "code",
      "metadata": {
        "id": "casW5UtW9GDM",
        "colab": {
          "base_uri": "https://localhost:8080/",
          "height": 303
        },
        "outputId": "505acde4-cde0-42fe-85bf-5759964f76d9"
      },
      "source": [
        "hisgraph(yields_df.dropna()['C.Yield.Value'])"
      ],
      "execution_count": null,
      "outputs": [
        {
          "output_type": "execute_result",
          "data": {
            "text/plain": [
              "<matplotlib.axes._subplots.AxesSubplot at 0x7f0a74d67ba8>"
            ]
          },
          "metadata": {
            "tags": []
          },
          "execution_count": 144
        },
        {
          "output_type": "display_data",
          "data": {
            "image/png": "[encoded data removed]",
            "text/plain": [
              "<Figure size 432x288 with 1 Axes>"
            ]
          },
          "metadata": {
            "tags": []
          }
        }
      ]
    },
    {
      "cell_type": "code",
      "metadata": {
        "colab": {
          "base_uri": "https://localhost:8080/",
          "height": 321
        },
        "id": "kbypZQCuIBmD",
        "outputId": "19f37868-01f1-439a-b2f1-d5a53aff5ae8"
      },
      "source": [
        "linegraph(yields_df.dropna()['US.Yield.Value'], yields_df.dropna()['US.Yield.Year'], yields_df.dropna()['C.Yield.Value'], yields_df.dropna()['C.Yield.Year'])"
      ],
      "execution_count": null,
      "outputs": [
        {
          "output_type": "execute_result",
          "data": {
            "text/plain": [
              "((<matplotlib.axes._subplots.AxesSubplot at 0x7f0a74856470>,),\n",
              " <matplotlib.axes._subplots.AxesSubplot at 0x7f0a74856470>)"
            ]
          },
          "metadata": {
            "tags": []
          },
          "execution_count": 147
        },
        {
          "output_type": "display_data",
          "data": {
            "image/png": "[encoded data removed]",
            "text/plain": [
              "<Figure size 432x288 with 1 Axes>"
            ]
          },
          "metadata": {
            "tags": []
          }
        }
      ]
    },
    {
      "cell_type": "markdown",
      "metadata": {
        "id": "7Zz7VFnvfSHN"
      },
      "source": [
        "#***Producer Prices***\r\n",
        "--------------------------------------------------------------------------------\r\n",
        "Producer Prices vary. But the US see's a higher producer price than china does. The United States also has a higher cost than China does."
      ]
    },
    {
      "cell_type": "markdown",
      "metadata": {
        "id": "NP-CS_SrKbfM"
      },
      "source": [
        "## *Producer Prices*\r\n",
        "--------------------------------------------------------------------------------\r\n",
        "*Prices paid directly to the Farmer at the point of sale*"
      ]
    },
    {
      "cell_type": "code",
      "metadata": {
        "id": "0oaBqljiKZeW",
        "colab": {
          "base_uri": "https://localhost:8080/"
        },
        "outputId": "f9ad3318-52b6-4648-9285-a9ba0ccb8769"
      },
      "source": [
        "descript_df(prices_df)"
      ],
      "execution_count": null,
      "outputs": [
        {
          "output_type": "stream",
          "text": [
            "<class 'pandas.core.frame.DataFrame'>\n",
            "RangeIndex: 11841 entries, 0 to 11840\n",
            "Data columns (total 6 columns):\n",
            " #   Column              Non-Null Count  Dtype  \n",
            "---  ------              --------------  -----  \n",
            " 0   Item.Pro.Prices.US  11841 non-null  object \n",
            " 1   Year.Pro.Price.US   11841 non-null  int64  \n",
            " 2   Value               11841 non-null  float64\n",
            " 3   C.Item.Pro.Prices   11408 non-null  object \n",
            " 4   C.Year.Pro.Prices   11408 non-null  float64\n",
            " 5   C.Value.Pro.Prices  11408 non-null  float64\n",
            "dtypes: float64(3), int64(1), object(2)\n",
            "memory usage: 555.2+ KB\n"
          ],
          "name": "stdout"
        },
        {
          "output_type": "execute_result",
          "data": {
            "text/plain": [
              "(((11841, 6),),\n",
              " (None,),\n",
              " (       Year.Pro.Price.US         Value  C.Year.Pro.Prices  C.Value.Pro.Prices\n",
              "  count       11841.000000  11841.000000       11408.000000        11408.000000\n",
              "  mean         2007.890212   1053.069901        2008.839499         8352.035352\n",
              "  std             8.093349   1895.220418           7.427055        12132.136302\n",
              "  min          1991.000000      0.000000        1991.000000           17.900000\n",
              "  25%          2001.000000    302.000000        2005.000000         1926.000000\n",
              "  50%          2010.000000    597.000000        2011.000000         4031.900000\n",
              "  75%          2015.000000   1246.000000        2014.000000         9568.000000\n",
              "  max          2019.000000  44313.000000        2019.000000       167900.000000,),\n",
              " (Item.Pro.Prices.US      0\n",
              "  Year.Pro.Price.US       0\n",
              "  Value                   0\n",
              "  C.Item.Pro.Prices     433\n",
              "  C.Year.Pro.Prices     433\n",
              "  C.Value.Pro.Prices    433\n",
              "  dtype: int64,))"
            ]
          },
          "metadata": {
            "tags": []
          },
          "execution_count": 131
        }
      ]
    },
    {
      "cell_type": "code",
      "metadata": {
        "id": "VBFe6TM0KqMG",
        "colab": {
          "base_uri": "https://localhost:8080/"
        },
        "outputId": "0f424c09-3802-4ef5-9015-5a2f744d5266"
      },
      "source": [
        "descript_col(prices_df['Value'])"
      ],
      "execution_count": null,
      "outputs": [
        {
          "output_type": "execute_result",
          "data": {
            "text/plain": [
              "((count    11841.000000\n",
              "  mean      1053.069901\n",
              "  std       1895.220418\n",
              "  min          0.000000\n",
              "  25%        302.000000\n",
              "  50%        597.000000\n",
              "  75%       1246.000000\n",
              "  max      44313.000000\n",
              "  Name: Value, dtype: float64,), 0        False\n",
              " 1        False\n",
              " 2        False\n",
              " 3        False\n",
              " 4        False\n",
              "          ...  \n",
              " 11836    False\n",
              " 11837    False\n",
              " 11838    False\n",
              " 11839    False\n",
              " 11840    False\n",
              " Name: Value, Length: 11841, dtype: bool)"
            ]
          },
          "metadata": {
            "tags": []
          },
          "execution_count": 132
        }
      ]
    },
    {
      "cell_type": "code",
      "metadata": {
        "id": "hcvsvDiS_2W8",
        "colab": {
          "base_uri": "https://localhost:8080/"
        },
        "outputId": "9757456d-abae-48ee-fa76-0c323fb5ea2f"
      },
      "source": [
        "descript_col(prices_df['C.Value.Pro.Prices'])"
      ],
      "execution_count": null,
      "outputs": [
        {
          "output_type": "execute_result",
          "data": {
            "text/plain": [
              "((count     11408.000000\n",
              "  mean       8352.035352\n",
              "  std       12132.136302\n",
              "  min          17.900000\n",
              "  25%        1926.000000\n",
              "  50%        4031.900000\n",
              "  75%        9568.000000\n",
              "  max      167900.000000\n",
              "  Name: C.Value.Pro.Prices, dtype: float64,), 0        False\n",
              " 1        False\n",
              " 2        False\n",
              " 3        False\n",
              " 4        False\n",
              "          ...  \n",
              " 11836     True\n",
              " 11837     True\n",
              " 11838     True\n",
              " 11839     True\n",
              " 11840     True\n",
              " Name: C.Value.Pro.Prices, Length: 11841, dtype: bool)"
            ]
          },
          "metadata": {
            "tags": []
          },
          "execution_count": 133
        }
      ]
    },
    {
      "cell_type": "code",
      "metadata": {
        "id": "5R-l9as5ACtR",
        "colab": {
          "base_uri": "https://localhost:8080/"
        },
        "outputId": "ac53f459-4ce5-4a88-9c2f-49ee45757b52"
      },
      "source": [
        "prices.dropna()"
      ],
      "execution_count": null,
      "outputs": [
        {
          "output_type": "execute_result",
          "data": {
            "text/html": [
              "<div>\n",
              "<style scoped>\n",
              "    .dataframe tbody tr th:only-of-type {\n",
              "        vertical-align: middle;\n",
              "    }\n",
              "\n",
              "    .dataframe tbody tr th {\n",
              "        vertical-align: top;\n",
              "    }\n",
              "\n",
              "    .dataframe thead th {\n",
              "        text-align: right;\n",
              "    }\n",
              "</style>\n",
              "<table border=\"1\" class=\"dataframe\">\n",
              "  <thead>\n",
              "    <tr style=\"text-align: right;\">\n",
              "      <th></th>\n",
              "      <th>Item.Pro.Prices.US</th>\n",
              "      <th>Year.Pro.Price.US</th>\n",
              "      <th>Value</th>\n",
              "      <th>C.Item.Pro.Prices</th>\n",
              "      <th>C.Year.Pro.Prices</th>\n",
              "      <th>C.Value.Pro.Prices</th>\n",
              "    </tr>\n",
              "  </thead>\n",
              "  <tbody>\n",
              "    <tr>\n",
              "      <th>0</th>\n",
              "      <td>Almonds, with shell</td>\n",
              "      <td>1991</td>\n",
              "      <td>1571.0</td>\n",
              "      <td>Apples</td>\n",
              "      <td>1991.0</td>\n",
              "      <td>1469.0</td>\n",
              "    </tr>\n",
              "    <tr>\n",
              "      <th>1</th>\n",
              "      <td>Apples</td>\n",
              "      <td>1991</td>\n",
              "      <td>395.0</td>\n",
              "      <td>Bananas</td>\n",
              "      <td>1991.0</td>\n",
              "      <td>1464.0</td>\n",
              "    </tr>\n",
              "    <tr>\n",
              "      <th>2</th>\n",
              "      <td>Apricots</td>\n",
              "      <td>1991</td>\n",
              "      <td>407.0</td>\n",
              "      <td>Barley</td>\n",
              "      <td>1991.0</td>\n",
              "      <td>613.0</td>\n",
              "    </tr>\n",
              "    <tr>\n",
              "      <th>3</th>\n",
              "      <td>Avocados</td>\n",
              "      <td>1991</td>\n",
              "      <td>1319.0</td>\n",
              "      <td>Beans, green</td>\n",
              "      <td>1991.0</td>\n",
              "      <td>878.0</td>\n",
              "    </tr>\n",
              "    <tr>\n",
              "      <th>4</th>\n",
              "      <td>Bananas</td>\n",
              "      <td>1991</td>\n",
              "      <td>904.0</td>\n",
              "      <td>Broad beans, horse beans, dry</td>\n",
              "      <td>1991.0</td>\n",
              "      <td>878.0</td>\n",
              "    </tr>\n",
              "    <tr>\n",
              "      <th>...</th>\n",
              "      <td>...</td>\n",
              "      <td>...</td>\n",
              "      <td>...</td>\n",
              "      <td>...</td>\n",
              "      <td>...</td>\n",
              "      <td>...</td>\n",
              "    </tr>\n",
              "    <tr>\n",
              "      <th>11403</th>\n",
              "      <td>Rye</td>\n",
              "      <td>2014</td>\n",
              "      <td>305.0</td>\n",
              "      <td>Tobacco, unmanufactured</td>\n",
              "      <td>2018.0</td>\n",
              "      <td>4183.9</td>\n",
              "    </tr>\n",
              "    <tr>\n",
              "      <th>11404</th>\n",
              "      <td>Safflower seed</td>\n",
              "      <td>2014</td>\n",
              "      <td>551.0</td>\n",
              "      <td>Tomatoes</td>\n",
              "      <td>2018.0</td>\n",
              "      <td>554.2</td>\n",
              "    </tr>\n",
              "    <tr>\n",
              "      <th>11405</th>\n",
              "      <td>Seed cotton</td>\n",
              "      <td>2014</td>\n",
              "      <td>856.0</td>\n",
              "      <td>Watermelons</td>\n",
              "      <td>2018.0</td>\n",
              "      <td>373.5</td>\n",
              "    </tr>\n",
              "    <tr>\n",
              "      <th>11406</th>\n",
              "      <td>Sorghum</td>\n",
              "      <td>2014</td>\n",
              "      <td>159.0</td>\n",
              "      <td>Wheat</td>\n",
              "      <td>2018.0</td>\n",
              "      <td>340.8</td>\n",
              "    </tr>\n",
              "    <tr>\n",
              "      <th>11407</th>\n",
              "      <td>Soybeans</td>\n",
              "      <td>2014</td>\n",
              "      <td>371.0</td>\n",
              "      <td>Wool, greasy</td>\n",
              "      <td>2018.0</td>\n",
              "      <td>8945.0</td>\n",
              "    </tr>\n",
              "  </tbody>\n",
              "</table>\n",
              "<p>11408 rows × 6 columns</p>\n",
              "</div>"
            ],
            "text/plain": [
              "        Item.Pro.Prices.US  ...  C.Value.Pro.Prices\n",
              "0      Almonds, with shell  ...              1469.0\n",
              "1                   Apples  ...              1464.0\n",
              "2                 Apricots  ...               613.0\n",
              "3                 Avocados  ...               878.0\n",
              "4                  Bananas  ...               878.0\n",
              "...                    ...  ...                 ...\n",
              "11403                  Rye  ...              4183.9\n",
              "11404       Safflower seed  ...               554.2\n",
              "11405          Seed cotton  ...               373.5\n",
              "11406              Sorghum  ...               340.8\n",
              "11407             Soybeans  ...              8945.0\n",
              "\n",
              "[11408 rows x 6 columns]"
            ]
          },
          "metadata": {
            "tags": []
          },
          "execution_count": 134
        }
      ]
    },
    {
      "cell_type": "markdown",
      "metadata": {
        "id": "lFtwhpsaBy8F"
      },
      "source": [
        "##*Results*\r\n",
        "--------------------------------------------------------------------------------\r\n",
        "*Producer Prices*"
      ]
    },
    {
      "cell_type": "code",
      "metadata": {
        "id": "ECHp35CBB6hp",
        "colab": {
          "base_uri": "https://localhost:8080/"
        },
        "outputId": "52c415c0-b0fd-4f7b-cfd8-d34c6d820047"
      },
      "source": [
        "get_ci(prices_df['Value'],prices_df['C.Value.Pro.Prices'])"
      ],
      "execution_count": null,
      "outputs": [
        {
          "output_type": "execute_result",
          "data": {
            "text/plain": [
              "('Descriptive Stats for the USA are:',\n",
              " 'count    11841.000000\\nmean      1053.069901\\nstd       1895.220418\\nmin          0.000000\\n25%        302.000000\\n50%        597.000000\\n75%       1246.000000\\nmax      44313.000000\\nName: Value, dtype: float64',\n",
              " 'The descriptive stats for China are:',\n",
              " 'count     11408.000000\\nmean       8352.035352\\nstd       12132.136302\\nmin          17.900000\\n25%        1926.000000\\n50%        4031.900000\\n75%        9568.000000\\nmax      167900.000000\\nName: C.Value.Pro.Prices, dtype: float64',\n",
              " 'The count for USA : 11841',\n",
              " 'The count for China 11408',\n",
              " 'The mean for the USA is 1053.069901190778',\n",
              " 'The mean for China is  8352.035352384311',\n",
              " 'The Variance for the USA is  3591860.432697026',\n",
              " 'The Variance for China is 147188731.2420875',\n",
              " 'The Mean difference is: 7298.965451193533',\n",
              " 'The Standard Error of Difference is: 114.91552977160855',\n",
              " 'The Confidence interval is: 225.23443835235275',\n",
              " 'The lower and upper parameters for the mean are: 7073.731012841181 7524.1998895458855',\n",
              " 'The difference in means is at the 95% Confidence level, and (two-tail) is between 7073.731012841181 and 7524.1998895458855')"
            ]
          },
          "metadata": {
            "tags": []
          },
          "execution_count": 211
        }
      ]
    },
    {
      "cell_type": "code",
      "metadata": {
        "id": "Z7_g5L5nCJmL",
        "colab": {
          "base_uri": "https://localhost:8080/"
        },
        "outputId": "f87d3bae-cb9d-4379-c627-a46c0d1c1a1d"
      },
      "source": [
        "test(prices_df.dropna()['Value'],prices_df.dropna()['C.Value.Pro.Prices'])"
      ],
      "execution_count": null,
      "outputs": [
        {
          "output_type": "execute_result",
          "data": {
            "text/plain": [
              "Ttest_indResult(statistic=-63.87169896630455, pvalue=0.0)"
            ]
          },
          "metadata": {
            "tags": []
          },
          "execution_count": 212
        }
      ]
    },
    {
      "cell_type": "markdown",
      "metadata": {
        "id": "oIC3_bcNFqce"
      },
      "source": [
        "##*Producer Prices Graph*\r\n",
        "--------------------------------------------------------------------------------\r\n",
        "*Producer Prices*"
      ]
    },
    {
      "cell_type": "code",
      "metadata": {
        "id": "lEZ730wqAIGt",
        "colab": {
          "base_uri": "https://localhost:8080/",
          "height": 305
        },
        "outputId": "2468ca4e-49fe-4f0e-e051-8bae348f6bc7"
      },
      "source": [
        "sns.histplot(y = prices_df.dropna()['Value'], x = prices.dropna()['Year.Pro.Price.US'])\n",
        "sns.histplot(y = prices_df.dropna()['C.Value.Pro.Prices'], x = prices_df.dropna()['C.Year.Pro.Prices'])"
      ],
      "execution_count": null,
      "outputs": [
        {
          "output_type": "execute_result",
          "data": {
            "text/plain": [
              "<matplotlib.axes._subplots.AxesSubplot at 0x7f0a72e0d7f0>"
            ]
          },
          "metadata": {
            "tags": []
          },
          "execution_count": 214
        },
        {
          "output_type": "display_data",
          "data": {
            "image/png": "[encoded data removed]",
            "text/plain": [
              "<Figure size 432x288 with 1 Axes>"
            ]
          },
          "metadata": {
            "tags": []
          }
        }
      ]
    },
    {
      "cell_type": "code",
      "metadata": {
        "id": "-Z2SXzrcBXuW",
        "colab": {
          "base_uri": "https://localhost:8080/",
          "height": 303
        },
        "outputId": "362f206c-320e-4303-c24f-113596d1d8aa"
      },
      "source": [
        "sns.lineplot(y = prices_df.dropna()['Value'], x = prices.dropna()['Year.Pro.Price.US'])\r\n",
        "sns.lineplot(y = prices_df.dropna()['C.Value.Pro.Prices'], x = prices_df.dropna()['C.Year.Pro.Prices'])"
      ],
      "execution_count": null,
      "outputs": [
        {
          "output_type": "execute_result",
          "data": {
            "text/plain": [
              "<matplotlib.axes._subplots.AxesSubplot at 0x7f0a72d39be0>"
            ]
          },
          "metadata": {
            "tags": []
          },
          "execution_count": 215
        },
        {
          "output_type": "display_data",
          "data": {
            "image/png": "[encoded data removed]",
            "text/plain": [
              "<Figure size 432x288 with 1 Axes>"
            ]
          },
          "metadata": {
            "tags": []
          }
        }
      ]
    },
    {
      "cell_type": "markdown",
      "metadata": {
        "id": "BCNp3RpBfoSq"
      },
      "source": [
        "#***Milk Totals***\r\n",
        "--------------------------------------------------------------------------------\r\n",
        "Currently China ranks seecond in terms of global dairy sales revenue, after the United States of America and is forecasted to overtake the US by 2022."
      ]
    },
    {
      "cell_type": "markdown",
      "metadata": {
        "id": "GwfZZFzaQL9y"
      },
      "source": [
        "## *Milk*\r\n",
        "--------------------------------------------------------------------------------\r\n",
        "*Milk yield after being processed*"
      ]
    },
    {
      "cell_type": "code",
      "metadata": {
        "id": "L8AduOcJQXET",
        "colab": {
          "base_uri": "https://localhost:8080/"
        },
        "outputId": "cbfd2867-cec0-4190-dfce-27fe2386585b"
      },
      "source": [
        "descript_df(milk_df)"
      ],
      "execution_count": null,
      "outputs": [
        {
          "output_type": "stream",
          "text": [
            "<class 'pandas.core.frame.DataFrame'>\n",
            "RangeIndex: 88 entries, 0 to 87\n",
            "Data columns (total 8 columns):\n",
            " #   Column            Non-Null Count  Dtype  \n",
            "---  ------            --------------  -----  \n",
            " 0   US Milk Yield     88 non-null     object \n",
            " 1   Milk Animal.US    88 non-null     object \n",
            " 2   Year.US.milk      88 non-null     int64  \n",
            " 3   Value.US.Milk     88 non-null     int64  \n",
            " 4   China Milk Yield  59 non-null     object \n",
            " 5   Milk Animal.C     59 non-null     object \n",
            " 6   Year.M.C          59 non-null     float64\n",
            " 7   Value.Milk.China  59 non-null     float64\n",
            "dtypes: float64(2), int64(2), object(4)\n",
            "memory usage: 5.6+ KB\n"
          ],
          "name": "stdout"
        },
        {
          "output_type": "execute_result",
          "data": {
            "text/plain": [
              "(((88, 8),),\n",
              " (None,),\n",
              " (       Year.US.milk  Value.US.Milk     Year.M.C  Value.Milk.China\n",
              "  count     88.000000      88.000000    59.000000         59.000000\n",
              "  mean    1994.943182   46150.113636  1990.000000      19650.983051\n",
              "  std       16.440319   36677.035328    17.175564       9069.480549\n",
              "  min     1961.000000     936.000000  1961.000000      11624.000000\n",
              "  25%     1982.750000    1061.750000  1975.500000      13149.500000\n",
              "  50%     1997.500000   48202.000000  1990.000000      15837.000000\n",
              "  75%     2008.250000   76882.250000  2004.500000      25250.500000\n",
              "  max     2019.000000  105904.000000  2019.000000      56468.000000,),\n",
              " (US Milk Yield        0\n",
              "  Milk Animal.US       0\n",
              "  Year.US.milk         0\n",
              "  Value.US.Milk        0\n",
              "  China Milk Yield    29\n",
              "  Milk Animal.C       29\n",
              "  Year.M.C            29\n",
              "  Value.Milk.China    29\n",
              "  dtype: int64,))"
            ]
          },
          "metadata": {
            "tags": []
          },
          "execution_count": 139
        }
      ]
    },
    {
      "cell_type": "code",
      "metadata": {
        "id": "nNZaWB04QfA-",
        "colab": {
          "base_uri": "https://localhost:8080/"
        },
        "outputId": "31526997-9087-43af-805d-2cea1f25c2c6"
      },
      "source": [
        "descript_col(milk_df.dropna()['Value.US.Milk'])"
      ],
      "execution_count": null,
      "outputs": [
        {
          "output_type": "execute_result",
          "data": {
            "text/plain": [
              "((count        59.000000\n",
              "  mean      68332.542373\n",
              "  std       22336.357438\n",
              "  min       33068.000000\n",
              "  25%       48202.000000\n",
              "  50%       67052.000000\n",
              "  75%       87340.500000\n",
              "  max      105904.000000\n",
              "  Name: Value.US.Milk, dtype: float64,), 0     False\n",
              " 1     False\n",
              " 2     False\n",
              " 3     False\n",
              " 4     False\n",
              " 5     False\n",
              " 6     False\n",
              " 7     False\n",
              " 8     False\n",
              " 9     False\n",
              " 10    False\n",
              " 11    False\n",
              " 12    False\n",
              " 13    False\n",
              " 14    False\n",
              " 15    False\n",
              " 16    False\n",
              " 17    False\n",
              " 18    False\n",
              " 19    False\n",
              " 20    False\n",
              " 21    False\n",
              " 22    False\n",
              " 23    False\n",
              " 24    False\n",
              " 25    False\n",
              " 26    False\n",
              " 27    False\n",
              " 28    False\n",
              " 29    False\n",
              " 30    False\n",
              " 31    False\n",
              " 32    False\n",
              " 33    False\n",
              " 34    False\n",
              " 35    False\n",
              " 36    False\n",
              " 37    False\n",
              " 38    False\n",
              " 39    False\n",
              " 40    False\n",
              " 41    False\n",
              " 42    False\n",
              " 43    False\n",
              " 44    False\n",
              " 45    False\n",
              " 46    False\n",
              " 47    False\n",
              " 48    False\n",
              " 49    False\n",
              " 50    False\n",
              " 51    False\n",
              " 52    False\n",
              " 53    False\n",
              " 54    False\n",
              " 55    False\n",
              " 56    False\n",
              " 57    False\n",
              " 58    False\n",
              " Name: Value.US.Milk, dtype: bool)"
            ]
          },
          "metadata": {
            "tags": []
          },
          "execution_count": 228
        }
      ]
    },
    {
      "cell_type": "code",
      "metadata": {
        "id": "xNBRFyR7QpXQ",
        "colab": {
          "base_uri": "https://localhost:8080/"
        },
        "outputId": "d23ff144-1a91-44d5-ded1-90a2dce4f87d"
      },
      "source": [
        "descript_col(milk_df.dropna()['Value.Milk.China'])"
      ],
      "execution_count": null,
      "outputs": [
        {
          "output_type": "execute_result",
          "data": {
            "text/plain": [
              "((count       59.000000\n",
              "  mean     19650.983051\n",
              "  std       9069.480549\n",
              "  min      11624.000000\n",
              "  25%      13149.500000\n",
              "  50%      15837.000000\n",
              "  75%      25250.500000\n",
              "  max      56468.000000\n",
              "  Name: Value.Milk.China, dtype: float64,), 0     False\n",
              " 1     False\n",
              " 2     False\n",
              " 3     False\n",
              " 4     False\n",
              " 5     False\n",
              " 6     False\n",
              " 7     False\n",
              " 8     False\n",
              " 9     False\n",
              " 10    False\n",
              " 11    False\n",
              " 12    False\n",
              " 13    False\n",
              " 14    False\n",
              " 15    False\n",
              " 16    False\n",
              " 17    False\n",
              " 18    False\n",
              " 19    False\n",
              " 20    False\n",
              " 21    False\n",
              " 22    False\n",
              " 23    False\n",
              " 24    False\n",
              " 25    False\n",
              " 26    False\n",
              " 27    False\n",
              " 28    False\n",
              " 29    False\n",
              " 30    False\n",
              " 31    False\n",
              " 32    False\n",
              " 33    False\n",
              " 34    False\n",
              " 35    False\n",
              " 36    False\n",
              " 37    False\n",
              " 38    False\n",
              " 39    False\n",
              " 40    False\n",
              " 41    False\n",
              " 42    False\n",
              " 43    False\n",
              " 44    False\n",
              " 45    False\n",
              " 46    False\n",
              " 47    False\n",
              " 48    False\n",
              " 49    False\n",
              " 50    False\n",
              " 51    False\n",
              " 52    False\n",
              " 53    False\n",
              " 54    False\n",
              " 55    False\n",
              " 56    False\n",
              " 57    False\n",
              " 58    False\n",
              " Name: Value.Milk.China, dtype: bool)"
            ]
          },
          "metadata": {
            "tags": []
          },
          "execution_count": 227
        }
      ]
    },
    {
      "cell_type": "markdown",
      "metadata": {
        "id": "cQEPgIz5Qyp9"
      },
      "source": [
        "##*Milk Results*\r\n",
        "--------------------------------------------------------------------------------\r\n",
        "*Milk Data Frame*"
      ]
    },
    {
      "cell_type": "code",
      "metadata": {
        "id": "Kea0yRIP8i-j",
        "colab": {
          "base_uri": "https://localhost:8080/"
        },
        "outputId": "1fddf172-6de2-4544-a0e9-0e0ba89b7d97"
      },
      "source": [
        "test(milk_df.dropna()['Value.US.Milk'], milk_df.dropna()['Value.Milk.China'])"
      ],
      "execution_count": null,
      "outputs": [
        {
          "output_type": "execute_result",
          "data": {
            "text/plain": [
              "Ttest_indResult(statistic=15.510989805634873, pvalue=4.6255014038833875e-30)"
            ]
          },
          "metadata": {
            "tags": []
          },
          "execution_count": 221
        }
      ]
    },
    {
      "cell_type": "markdown",
      "metadata": {
        "id": "E0HSLRpnOlba"
      },
      "source": [
        "We reject the null hypothesis, with a P-Value less than .05. We can expect to see even more extreme mean differences using the world's data."
      ]
    },
    {
      "cell_type": "code",
      "metadata": {
        "id": "wCAnGGmEQ5OX",
        "colab": {
          "base_uri": "https://localhost:8080/"
        },
        "outputId": "7df2be49-21fd-4c49-e419-186c9be88f26"
      },
      "source": [
        "get_ci(milk_df.dropna()['Value.US.Milk'], milk_df.dropna()['Value.Milk.China'])"
      ],
      "execution_count": null,
      "outputs": [
        {
          "output_type": "execute_result",
          "data": {
            "text/plain": [
              "('Descriptive Stats for the USA are:',\n",
              " 'count        59.000000\\nmean      68332.542373\\nstd       22336.357438\\nmin       33068.000000\\n25%       48202.000000\\n50%       67052.000000\\n75%       87340.500000\\nmax      105904.000000\\nName: Value.US.Milk, dtype: float64',\n",
              " 'The descriptive stats for China are:',\n",
              " 'count       59.000000\\nmean     19650.983051\\nstd       9069.480549\\nmin      11624.000000\\n25%      13149.500000\\n50%      15837.000000\\n75%      25250.500000\\nmax      56468.000000\\nName: Value.Milk.China, dtype: float64',\n",
              " 'The count for USA : 59',\n",
              " 'The count for China 59',\n",
              " 'The mean for the USA is 68332.54237288136',\n",
              " 'The mean for China is  19650.98305084746',\n",
              " 'The Variance for the USA is  498912863.5973117',\n",
              " 'The Variance for China is 82255477.43074226',\n",
              " 'The Mean difference is: -48681.55932203391',\n",
              " 'The Standard Error of Difference is: 3138.520489798063',\n",
              " 'The Confidence interval is: 6151.500160004203',\n",
              " 'The lower and upper parameters for the mean are: -54833.05948203811 -42530.059162029705',\n",
              " 'The difference in means is at the 95% Confidence level, and (two-tail) is between -54833.05948203811 and -42530.059162029705')"
            ]
          },
          "metadata": {
            "tags": []
          },
          "execution_count": 226
        }
      ]
    },
    {
      "cell_type": "markdown",
      "metadata": {
        "id": "UWaPtlfsPBNn"
      },
      "source": [
        "## *Milk Graphs*"
      ]
    },
    {
      "cell_type": "code",
      "metadata": {
        "colab": {
          "base_uri": "https://localhost:8080/",
          "height": 321
        },
        "id": "8Cstk3crPGpG",
        "outputId": "8d5807b8-e69e-4c1f-81f8-83f97d3128f6"
      },
      "source": [
        "linegraph(milk_df.dropna()['Value.US.Milk'],milk_df['Year.US.milk'], milk_df.dropna()['Value.Milk.China'],milk_df['Year.M.C'])"
      ],
      "execution_count": null,
      "outputs": [
        {
          "output_type": "execute_result",
          "data": {
            "text/plain": [
              "((<matplotlib.axes._subplots.AxesSubplot at 0x7f0a72ccccc0>,),\n",
              " <matplotlib.axes._subplots.AxesSubplot at 0x7f0a72ccccc0>)"
            ]
          },
          "metadata": {
            "tags": []
          },
          "execution_count": 225
        },
        {
          "output_type": "display_data",
          "data": {
            "image/png": "[encoded data removed]",
            "text/plain": [
              "<Figure size 432x288 with 1 Axes>"
            ]
          },
          "metadata": {
            "tags": []
          }
        }
      ]
    },
    {
      "cell_type": "markdown",
      "metadata": {
        "id": "nu427-4vYSfn"
      },
      "source": [
        "# Summary\r\n",
        "--------------------------------------------------------------------------------\r\n",
        " By analyzing the data for the top producing countries, we can see the difference in certain areas. But we can also see some areas appear to stay the same. \r\n",
        " As we already produce enough food for the projected estimates for the worlds growing population, I think that continuing with vertical farming is the way to go. From the analysis it shows that even though we are losing land our production is not decreasing, and that is due to vertical farming. So far, the agriculture industry has found ways to circumvent the loss of land. \r\n",
        "\r\n",
        " Part of the problem with our food supply, is related to waste. The United States alone, waste more food than what Africa imports each year. To help put that into perspective, it is between 30-40% of the US Food supply, which is 80 billion pounds of food and equates to $161 Billion dollars each year that is wasted.\r\n",
        "\r\n",
        "My recommendation are as follows, continue with vertical farming, as it can do nothing but help. Find ways to remedy the soil pollution, to reclaim some of our arable land. \r\n"
      ]
    }
  ]
}